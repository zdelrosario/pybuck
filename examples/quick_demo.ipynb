{
 "cells": [
  {
   "cell_type": "markdown",
   "metadata": {},
   "source": [
    "# Quick Tour\n",
    "\n",
    "---\n",
    "\n",
    "This is a quick tour of `pybuck`---a package to support dimensional analysis in Python.\n",
    "\n",
    "## Basic Dimensional Analysis\n",
    "\n",
    "First we demonstrate some basic tasks in dimensional analysis; the `pybuck` package automates many basic computations."
   ]
  },
  {
   "cell_type": "code",
   "execution_count": 1,
   "metadata": {},
   "outputs": [],
   "source": [
    "import grama as gr\n",
    "\n",
    "from pybuck import *\n",
    "from plotnine import *\n",
    "\n",
    "DF = gr.Intention()"
   ]
  },
  {
   "cell_type": "markdown",
   "metadata": {},
   "source": [
    "We are studying the *Reynolds' pipe flow problem* [1], which has physical inputs:\n",
    "\n",
    "| Input | Symbol | Units |\n",
    "|--|--|--|\n",
    "| Fluid density | $\\rho$ | $\\frac{M}{L^3}$ |\n",
    "| Fluid bulk velocity | $U$ | $\\frac{L}{T}$ |\n",
    "| Pipe diameter | $D$ | $L$ |\n",
    "| Fluid dynamic viscosity | $\\mu$ | $\\frac{M}{LT}$ |\n",
    "| Roughness lengthscale | $\\epsilon$ | $L$ |\n",
    "\n",
    "We construct the *dimension matrix* [2] with compact syntax. Zeros are automatically filled in."
   ]
  },
  {
   "cell_type": "code",
   "execution_count": 2,
   "metadata": {},
   "outputs": [
    {
     "data": {
      "text/html": [
       "<div>\n",
       "<style scoped>\n",
       "    .dataframe tbody tr th:only-of-type {\n",
       "        vertical-align: middle;\n",
       "    }\n",
       "\n",
       "    .dataframe tbody tr th {\n",
       "        vertical-align: top;\n",
       "    }\n",
       "\n",
       "    .dataframe thead th {\n",
       "        text-align: right;\n",
       "    }\n",
       "</style>\n",
       "<table border=\"1\" class=\"dataframe\">\n",
       "  <thead>\n",
       "    <tr style=\"text-align: right;\">\n",
       "      <th></th>\n",
       "      <th>rowname</th>\n",
       "      <th>rho</th>\n",
       "      <th>U</th>\n",
       "      <th>D</th>\n",
       "      <th>mu</th>\n",
       "      <th>eps</th>\n",
       "    </tr>\n",
       "  </thead>\n",
       "  <tbody>\n",
       "    <tr>\n",
       "      <th>0</th>\n",
       "      <td>L</td>\n",
       "      <td>-3</td>\n",
       "      <td>1</td>\n",
       "      <td>1</td>\n",
       "      <td>-1</td>\n",
       "      <td>1</td>\n",
       "    </tr>\n",
       "    <tr>\n",
       "      <th>1</th>\n",
       "      <td>T</td>\n",
       "      <td>0</td>\n",
       "      <td>-1</td>\n",
       "      <td>0</td>\n",
       "      <td>-1</td>\n",
       "      <td>0</td>\n",
       "    </tr>\n",
       "    <tr>\n",
       "      <th>2</th>\n",
       "      <td>M</td>\n",
       "      <td>1</td>\n",
       "      <td>0</td>\n",
       "      <td>0</td>\n",
       "      <td>1</td>\n",
       "      <td>0</td>\n",
       "    </tr>\n",
       "  </tbody>\n",
       "</table>\n",
       "</div>"
      ],
      "text/plain": [
       "  rowname  rho  U  D  mu  eps\n",
       "0       L   -3  1  1  -1    1\n",
       "1       T    0 -1  0  -1    0\n",
       "2       M    1  0  0   1    0"
      ]
     },
     "execution_count": 2,
     "metadata": {},
     "output_type": "execute_result"
    }
   ],
   "source": [
    "df_dim = col_matrix(\n",
    "    rho = dict(M=1, L=-3),\n",
    "    U   = dict(L=1, T=-1),\n",
    "    D   = dict(L=1),\n",
    "    mu  = dict(M=1, L=-1, T=-1),\n",
    "    eps = dict(L=1)\n",
    ")\n",
    "df_dim\n"
   ]
  },
  {
   "cell_type": "markdown",
   "metadata": {},
   "source": [
    "This is a standardized way to represent the physical units of the inputs. We can check the physical units of a power-product of the inputs above through an inner product. Note that $\\frac{1}{2}\\rho U^2$ is *dynamic pressure*, so it should have the units of pressure $\\left[\\frac{M}{LT^2}\\right]$. Dimensionless constants are ignored when performing dimensional analysis."
   ]
  },
  {
   "cell_type": "code",
   "execution_count": 3,
   "metadata": {},
   "outputs": [
    {
     "data": {
      "text/html": [
       "<div>\n",
       "<style scoped>\n",
       "    .dataframe tbody tr th:only-of-type {\n",
       "        vertical-align: middle;\n",
       "    }\n",
       "\n",
       "    .dataframe tbody tr th {\n",
       "        vertical-align: top;\n",
       "    }\n",
       "\n",
       "    .dataframe thead th {\n",
       "        text-align: right;\n",
       "    }\n",
       "</style>\n",
       "<table border=\"1\" class=\"dataframe\">\n",
       "  <thead>\n",
       "    <tr style=\"text-align: right;\">\n",
       "      <th></th>\n",
       "      <th>rowname</th>\n",
       "      <th>q</th>\n",
       "    </tr>\n",
       "  </thead>\n",
       "  <tbody>\n",
       "    <tr>\n",
       "      <th>0</th>\n",
       "      <td>L</td>\n",
       "      <td>-1</td>\n",
       "    </tr>\n",
       "    <tr>\n",
       "      <th>1</th>\n",
       "      <td>T</td>\n",
       "      <td>-2</td>\n",
       "    </tr>\n",
       "    <tr>\n",
       "      <th>2</th>\n",
       "      <td>M</td>\n",
       "      <td>1</td>\n",
       "    </tr>\n",
       "  </tbody>\n",
       "</table>\n",
       "</div>"
      ],
      "text/plain": [
       "  rowname  q\n",
       "0       L -1\n",
       "1       T -2\n",
       "2       M  1"
      ]
     },
     "execution_count": 3,
     "metadata": {},
     "output_type": "execute_result"
    }
   ],
   "source": [
    "df_weights = col_matrix(q = dict(rho=1, U=2))\n",
    "df_res = inner(df_dim, df_weights)\n",
    "df_res\n"
   ]
  },
  {
   "cell_type": "markdown",
   "metadata": {},
   "source": [
    "We can compute a basis for the nullspace of `df_dim`; this subspace is called the *pi subspace*."
   ]
  },
  {
   "cell_type": "code",
   "execution_count": 4,
   "metadata": {},
   "outputs": [
    {
     "data": {
      "text/html": [
       "<div>\n",
       "<style scoped>\n",
       "    .dataframe tbody tr th:only-of-type {\n",
       "        vertical-align: middle;\n",
       "    }\n",
       "\n",
       "    .dataframe tbody tr th {\n",
       "        vertical-align: top;\n",
       "    }\n",
       "\n",
       "    .dataframe thead th {\n",
       "        text-align: right;\n",
       "    }\n",
       "</style>\n",
       "<table border=\"1\" class=\"dataframe\">\n",
       "  <thead>\n",
       "    <tr style=\"text-align: right;\">\n",
       "      <th></th>\n",
       "      <th>rowname</th>\n",
       "      <th>pi0</th>\n",
       "      <th>pi1</th>\n",
       "    </tr>\n",
       "  </thead>\n",
       "  <tbody>\n",
       "    <tr>\n",
       "      <th>0</th>\n",
       "      <td>rho</td>\n",
       "      <td>-0.521959</td>\n",
       "      <td>0.115207</td>\n",
       "    </tr>\n",
       "    <tr>\n",
       "      <th>1</th>\n",
       "      <td>U</td>\n",
       "      <td>-0.521959</td>\n",
       "      <td>0.115207</td>\n",
       "    </tr>\n",
       "    <tr>\n",
       "      <th>2</th>\n",
       "      <td>D</td>\n",
       "      <td>-0.413385</td>\n",
       "      <td>-0.632884</td>\n",
       "    </tr>\n",
       "    <tr>\n",
       "      <th>3</th>\n",
       "      <td>mu</td>\n",
       "      <td>0.521959</td>\n",
       "      <td>-0.115207</td>\n",
       "    </tr>\n",
       "    <tr>\n",
       "      <th>4</th>\n",
       "      <td>eps</td>\n",
       "      <td>-0.108575</td>\n",
       "      <td>0.748091</td>\n",
       "    </tr>\n",
       "  </tbody>\n",
       "</table>\n",
       "</div>"
      ],
      "text/plain": [
       "  rowname       pi0       pi1\n",
       "0     rho -0.521959  0.115207\n",
       "1       U -0.521959  0.115207\n",
       "2       D -0.413385 -0.632884\n",
       "3      mu  0.521959 -0.115207\n",
       "4     eps -0.108575  0.748091"
      ]
     },
     "execution_count": 4,
     "metadata": {},
     "output_type": "execute_result"
    }
   ],
   "source": [
    "df_pi = pi_basis(df_dim)\n",
    "df_pi\n"
   ]
  },
  {
   "cell_type": "markdown",
   "metadata": {},
   "source": [
    "This shows us that the pi subspace is two-dimensional. The weights are fairly non-standard; a more familiar set are the *Reynolds number* and the *relative roughness*."
   ]
  },
  {
   "cell_type": "code",
   "execution_count": 5,
   "metadata": {},
   "outputs": [
    {
     "data": {
      "text/html": [
       "<div>\n",
       "<style scoped>\n",
       "    .dataframe tbody tr th:only-of-type {\n",
       "        vertical-align: middle;\n",
       "    }\n",
       "\n",
       "    .dataframe tbody tr th {\n",
       "        vertical-align: top;\n",
       "    }\n",
       "\n",
       "    .dataframe thead th {\n",
       "        text-align: right;\n",
       "    }\n",
       "</style>\n",
       "<table border=\"1\" class=\"dataframe\">\n",
       "  <thead>\n",
       "    <tr style=\"text-align: right;\">\n",
       "      <th></th>\n",
       "      <th>rowname</th>\n",
       "      <th>Re</th>\n",
       "      <th>R</th>\n",
       "    </tr>\n",
       "  </thead>\n",
       "  <tbody>\n",
       "    <tr>\n",
       "      <th>0</th>\n",
       "      <td>mu</td>\n",
       "      <td>-1</td>\n",
       "      <td>0</td>\n",
       "    </tr>\n",
       "    <tr>\n",
       "      <th>1</th>\n",
       "      <td>eps</td>\n",
       "      <td>0</td>\n",
       "      <td>1</td>\n",
       "    </tr>\n",
       "    <tr>\n",
       "      <th>2</th>\n",
       "      <td>D</td>\n",
       "      <td>1</td>\n",
       "      <td>-1</td>\n",
       "    </tr>\n",
       "    <tr>\n",
       "      <th>3</th>\n",
       "      <td>rho</td>\n",
       "      <td>1</td>\n",
       "      <td>0</td>\n",
       "    </tr>\n",
       "    <tr>\n",
       "      <th>4</th>\n",
       "      <td>U</td>\n",
       "      <td>1</td>\n",
       "      <td>0</td>\n",
       "    </tr>\n",
       "  </tbody>\n",
       "</table>\n",
       "</div>"
      ],
      "text/plain": [
       "  rowname  Re  R\n",
       "0      mu  -1  0\n",
       "1     eps   0  1\n",
       "2       D   1 -1\n",
       "3     rho   1  0\n",
       "4       U   1  0"
      ]
     },
     "execution_count": 5,
     "metadata": {},
     "output_type": "execute_result"
    }
   ],
   "source": [
    "df_standard = col_matrix(\n",
    "    Re = dict(rho=1, U=1, D=1, mu=-1), # Reynolds number\n",
    "    R  = dict(eps=1, D=-1)             # Relative roughness\n",
    ")\n",
    "df_standard\n"
   ]
  },
  {
   "cell_type": "markdown",
   "metadata": {},
   "source": [
    "We can check that these two bases are the same by computing the *subspace angles* between them:"
   ]
  },
  {
   "cell_type": "code",
   "execution_count": 6,
   "metadata": {},
   "outputs": [
    {
     "data": {
      "text/plain": [
       "array([4.51334311e-16, 1.74062712e-16])"
      ]
     },
     "execution_count": 6,
     "metadata": {},
     "output_type": "execute_result"
    }
   ],
   "source": [
    "angles(df_standard, df_pi)"
   ]
  },
  {
   "cell_type": "markdown",
   "metadata": {},
   "source": [
    "All subspace angles are zero to working precision; these two bases express the same subspace.\n",
    "\n",
    "Since these are the same subspace, we can re-express the computed basis `df_pi` in terms of the standard basis `df_standard`. This will allow us to physically interpret the computationally-derived weights."
   ]
  },
  {
   "cell_type": "code",
   "execution_count": 7,
   "metadata": {},
   "outputs": [
    {
     "data": {
      "text/html": [
       "<div>\n",
       "<style scoped>\n",
       "    .dataframe tbody tr th:only-of-type {\n",
       "        vertical-align: middle;\n",
       "    }\n",
       "\n",
       "    .dataframe tbody tr th {\n",
       "        vertical-align: top;\n",
       "    }\n",
       "\n",
       "    .dataframe thead th {\n",
       "        text-align: right;\n",
       "    }\n",
       "</style>\n",
       "<table border=\"1\" class=\"dataframe\">\n",
       "  <thead>\n",
       "    <tr style=\"text-align: right;\">\n",
       "      <th></th>\n",
       "      <th>rowname</th>\n",
       "      <th>pi0</th>\n",
       "      <th>pi1</th>\n",
       "    </tr>\n",
       "  </thead>\n",
       "  <tbody>\n",
       "    <tr>\n",
       "      <th>0</th>\n",
       "      <td>Re</td>\n",
       "      <td>-0.521959</td>\n",
       "      <td>0.115207</td>\n",
       "    </tr>\n",
       "    <tr>\n",
       "      <th>1</th>\n",
       "      <td>R</td>\n",
       "      <td>-0.108575</td>\n",
       "      <td>0.748091</td>\n",
       "    </tr>\n",
       "  </tbody>\n",
       "</table>\n",
       "</div>"
      ],
      "text/plain": [
       "  rowname       pi0       pi1\n",
       "0      Re -0.521959  0.115207\n",
       "1       R -0.108575  0.748091"
      ]
     },
     "execution_count": 7,
     "metadata": {},
     "output_type": "execute_result"
    }
   ],
   "source": [
    "df_pi_prime = express(df_pi, df_standard)\n",
    "df_pi_prime\n"
   ]
  },
  {
   "cell_type": "markdown",
   "metadata": {},
   "source": [
    "This shows us that `pi0` is composed of both `Re` and `R`, while `pi1` is almost entirely aligned with `R`.\n",
    "\n",
    "We can non-dimensionalize target quantities by providing their physical dimensions. If we wanted to non-dimensionalize a flow rate $[Q] = \\frac{M}{L^3 T}$, we could produce the *canonical non-dimensionalizing factor* [2] via"
   ]
  },
  {
   "cell_type": "code",
   "execution_count": 8,
   "metadata": {},
   "outputs": [
    {
     "name": "stdout",
     "output_type": "stream",
     "text": [
      "  rowname  pi_Q\n",
      "0       L   3.0\n",
      "1       T   1.0\n",
      "2       M  -1.0\n"
     ]
    },
    {
     "data": {
      "text/html": [
       "<div>\n",
       "<style scoped>\n",
       "    .dataframe tbody tr th:only-of-type {\n",
       "        vertical-align: middle;\n",
       "    }\n",
       "\n",
       "    .dataframe tbody tr th {\n",
       "        vertical-align: top;\n",
       "    }\n",
       "\n",
       "    .dataframe thead th {\n",
       "        text-align: right;\n",
       "    }\n",
       "</style>\n",
       "<table border=\"1\" class=\"dataframe\">\n",
       "  <thead>\n",
       "    <tr style=\"text-align: right;\">\n",
       "      <th></th>\n",
       "      <th>rowname</th>\n",
       "      <th>pi_Q</th>\n",
       "    </tr>\n",
       "  </thead>\n",
       "  <tbody>\n",
       "    <tr>\n",
       "      <th>0</th>\n",
       "      <td>rho</td>\n",
       "      <td>-0.571429</td>\n",
       "    </tr>\n",
       "    <tr>\n",
       "      <th>1</th>\n",
       "      <td>U</td>\n",
       "      <td>-0.571429</td>\n",
       "    </tr>\n",
       "    <tr>\n",
       "      <th>2</th>\n",
       "      <td>D</td>\n",
       "      <td>0.714286</td>\n",
       "    </tr>\n",
       "    <tr>\n",
       "      <th>3</th>\n",
       "      <td>mu</td>\n",
       "      <td>-0.428571</td>\n",
       "    </tr>\n",
       "    <tr>\n",
       "      <th>4</th>\n",
       "      <td>eps</td>\n",
       "      <td>0.714286</td>\n",
       "    </tr>\n",
       "  </tbody>\n",
       "</table>\n",
       "</div>"
      ],
      "text/plain": [
       "  rowname      pi_Q\n",
       "0     rho -0.571429\n",
       "1       U -0.571429\n",
       "2       D  0.714286\n",
       "3      mu -0.428571\n",
       "4     eps  0.714286"
      ]
     },
     "execution_count": 8,
     "metadata": {},
     "output_type": "execute_result"
    }
   ],
   "source": [
    "df_flowrate = col_matrix(pi_Q = dict(M=+1, L=-3, T=-1))\n",
    "df_nondim = nondim(df_flowrate, df_dim)\n",
    "print(inner(df_dim, df_nondim))\n",
    "df_nondim\n"
   ]
  },
  {
   "cell_type": "markdown",
   "metadata": {},
   "source": [
    "Note that the canonical factor has the *opposite* physical units of what we coded above; this is because multiplying by this factor should *cancel* the physical units of our target quantity, leading to a dimensionless number.\n",
    "\n",
    "The canonical factor is also orthogonal to the pi subspace. We can verify orthogonality computing the subspace angles."
   ]
  },
  {
   "cell_type": "code",
   "execution_count": 9,
   "metadata": {},
   "outputs": [
    {
     "data": {
      "text/plain": [
       "array([1.57079633])"
      ]
     },
     "execution_count": 9,
     "metadata": {},
     "output_type": "execute_result"
    }
   ],
   "source": [
    "angles(df_nondim, df_pi)"
   ]
  },
  {
   "cell_type": "markdown",
   "metadata": {},
   "source": [
    "This is $90^{\\circ}$; orthogonal to the pi subspace.\n",
    "\n",
    "We can verify that `df_nondim` non-dimensionalizes the qoi correctly by *augmenting* the dimension matrix and non-dimensionalizing vector with $Q$, then carrying out an inner product. If $Q \\times \\exp("
   ]
  },
  {
   "cell_type": "code",
   "execution_count": 10,
   "metadata": {},
   "outputs": [
    {
     "name": "stdout",
     "output_type": "stream",
     "text": [
      "  rowname  rho  U  D  mu  eps  Q\n",
      "0       L   -3  1  1  -1    1 -3\n",
      "1       T    0 -1  0  -1    0 -1\n",
      "2       M    1  0  0   1    0  1\n",
      "  rowname      pi_Q\n",
      "0       D  0.714286\n",
      "1       Q  1.000000\n",
      "2       U -0.571429\n",
      "3     eps  0.714286\n",
      "4      mu -0.428571\n",
      "5     rho -0.571429\n"
     ]
    },
    {
     "name": "stderr",
     "output_type": "stream",
     "text": [
      "Warning: Assuming rowname ordering for Q...\n"
     ]
    },
    {
     "data": {
      "text/html": [
       "<div>\n",
       "<style scoped>\n",
       "    .dataframe tbody tr th:only-of-type {\n",
       "        vertical-align: middle;\n",
       "    }\n",
       "\n",
       "    .dataframe tbody tr th {\n",
       "        vertical-align: top;\n",
       "    }\n",
       "\n",
       "    .dataframe thead th {\n",
       "        text-align: right;\n",
       "    }\n",
       "</style>\n",
       "<table border=\"1\" class=\"dataframe\">\n",
       "  <thead>\n",
       "    <tr style=\"text-align: right;\">\n",
       "      <th></th>\n",
       "      <th>rowname</th>\n",
       "      <th>pi_Q</th>\n",
       "    </tr>\n",
       "  </thead>\n",
       "  <tbody>\n",
       "    <tr>\n",
       "      <th>0</th>\n",
       "      <td>L</td>\n",
       "      <td>0.000000e+00</td>\n",
       "    </tr>\n",
       "    <tr>\n",
       "      <th>1</th>\n",
       "      <td>T</td>\n",
       "      <td>-6.661338e-16</td>\n",
       "    </tr>\n",
       "    <tr>\n",
       "      <th>2</th>\n",
       "      <td>M</td>\n",
       "      <td>4.440892e-16</td>\n",
       "    </tr>\n",
       "  </tbody>\n",
       "</table>\n",
       "</div>"
      ],
      "text/plain": [
       "  rowname          pi_Q\n",
       "0       L  0.000000e+00\n",
       "1       T -6.661338e-16\n",
       "2       M  4.440892e-16"
      ]
     },
     "execution_count": 10,
     "metadata": {},
     "output_type": "execute_result"
    }
   ],
   "source": [
    "df_dim_ext = add_col(df_dim, Q=dict(M=1, L=-3, T=-1))\n",
    "print(df_dim_ext)\n",
    "df_nondim_ext = add_row(df_nondim, Q=[1])\n",
    "print(df_nondim_ext)\n",
    "\n",
    "inner(df_dim_ext, df_nondim_ext)"
   ]
  },
  {
   "cell_type": "markdown",
   "metadata": {},
   "source": [
    "## Empirical Dimension Reduction\n",
    "\n",
    "Next we demonstrate combining *empirical dimension reduction* with dimensional analysis. This allows one to equip data-driven methods with physical interpretation.\n",
    "\n",
    "First, we generate some data for the Reynolds pipe flow problem. This follows the setup described in Reference 2."
   ]
  },
  {
   "cell_type": "code",
   "execution_count": 11,
   "metadata": {},
   "outputs": [
    {
     "data": {
      "text/html": [
       "<div>\n",
       "<style scoped>\n",
       "    .dataframe tbody tr th:only-of-type {\n",
       "        vertical-align: middle;\n",
       "    }\n",
       "\n",
       "    .dataframe tbody tr th {\n",
       "        vertical-align: top;\n",
       "    }\n",
       "\n",
       "    .dataframe thead th {\n",
       "        text-align: right;\n",
       "    }\n",
       "</style>\n",
       "<table border=\"1\" class=\"dataframe\">\n",
       "  <thead>\n",
       "    <tr style=\"text-align: right;\">\n",
       "      <th></th>\n",
       "      <th>rho</th>\n",
       "      <th>U</th>\n",
       "      <th>D</th>\n",
       "      <th>mu</th>\n",
       "      <th>eps</th>\n",
       "      <th>f</th>\n",
       "    </tr>\n",
       "  </thead>\n",
       "  <tbody>\n",
       "    <tr>\n",
       "      <th>0</th>\n",
       "      <td>1.206559</td>\n",
       "      <td>6.136008</td>\n",
       "      <td>1.311390</td>\n",
       "      <td>0.000011</td>\n",
       "      <td>0.289847</td>\n",
       "      <td>0.170242</td>\n",
       "    </tr>\n",
       "    <tr>\n",
       "      <th>1</th>\n",
       "      <td>1.333559</td>\n",
       "      <td>3.762696</td>\n",
       "      <td>1.657445</td>\n",
       "      <td>0.000014</td>\n",
       "      <td>0.116479</td>\n",
       "      <td>0.085578</td>\n",
       "    </tr>\n",
       "    <tr>\n",
       "      <th>2</th>\n",
       "      <td>1.221691</td>\n",
       "      <td>4.169188</td>\n",
       "      <td>1.372757</td>\n",
       "      <td>0.000014</td>\n",
       "      <td>0.387919</td>\n",
       "      <td>0.204711</td>\n",
       "    </tr>\n",
       "    <tr>\n",
       "      <th>3</th>\n",
       "      <td>1.092941</td>\n",
       "      <td>1.752053</td>\n",
       "      <td>1.541419</td>\n",
       "      <td>0.000014</td>\n",
       "      <td>0.146684</td>\n",
       "      <td>0.100495</td>\n",
       "    </tr>\n",
       "    <tr>\n",
       "      <th>4</th>\n",
       "      <td>1.274123</td>\n",
       "      <td>5.660807</td>\n",
       "      <td>1.319394</td>\n",
       "      <td>0.000011</td>\n",
       "      <td>0.115439</td>\n",
       "      <td>0.095950</td>\n",
       "    </tr>\n",
       "    <tr>\n",
       "      <th>...</th>\n",
       "      <td>...</td>\n",
       "      <td>...</td>\n",
       "      <td>...</td>\n",
       "      <td>...</td>\n",
       "      <td>...</td>\n",
       "      <td>...</td>\n",
       "    </tr>\n",
       "    <tr>\n",
       "      <th>495</th>\n",
       "      <td>1.075016</td>\n",
       "      <td>9.246646</td>\n",
       "      <td>1.401458</td>\n",
       "      <td>0.000013</td>\n",
       "      <td>0.128325</td>\n",
       "      <td>0.098339</td>\n",
       "    </tr>\n",
       "    <tr>\n",
       "      <th>496</th>\n",
       "      <td>1.280810</td>\n",
       "      <td>2.387921</td>\n",
       "      <td>1.335002</td>\n",
       "      <td>0.000014</td>\n",
       "      <td>0.298925</td>\n",
       "      <td>0.171866</td>\n",
       "    </tr>\n",
       "    <tr>\n",
       "      <th>497</th>\n",
       "      <td>1.263388</td>\n",
       "      <td>5.166624</td>\n",
       "      <td>1.508881</td>\n",
       "      <td>0.000013</td>\n",
       "      <td>0.342431</td>\n",
       "      <td>0.173515</td>\n",
       "    </tr>\n",
       "    <tr>\n",
       "      <th>498</th>\n",
       "      <td>1.272550</td>\n",
       "      <td>5.500882</td>\n",
       "      <td>1.534153</td>\n",
       "      <td>0.000013</td>\n",
       "      <td>0.347752</td>\n",
       "      <td>0.173365</td>\n",
       "    </tr>\n",
       "    <tr>\n",
       "      <th>499</th>\n",
       "      <td>1.149586</td>\n",
       "      <td>4.871932</td>\n",
       "      <td>1.436767</td>\n",
       "      <td>0.000012</td>\n",
       "      <td>0.069851</td>\n",
       "      <td>0.071562</td>\n",
       "    </tr>\n",
       "  </tbody>\n",
       "</table>\n",
       "<p>500 rows × 6 columns</p>\n",
       "</div>"
      ],
      "text/plain": [
       "          rho         U         D        mu       eps         f\n",
       "0    1.206559  6.136008  1.311390  0.000011  0.289847  0.170242\n",
       "1    1.333559  3.762696  1.657445  0.000014  0.116479  0.085578\n",
       "2    1.221691  4.169188  1.372757  0.000014  0.387919  0.204711\n",
       "3    1.092941  1.752053  1.541419  0.000014  0.146684  0.100495\n",
       "4    1.274123  5.660807  1.319394  0.000011  0.115439  0.095950\n",
       "..        ...       ...       ...       ...       ...       ...\n",
       "495  1.075016  9.246646  1.401458  0.000013  0.128325  0.098339\n",
       "496  1.280810  2.387921  1.335002  0.000014  0.298925  0.171866\n",
       "497  1.263388  5.166624  1.508881  0.000013  0.342431  0.173515\n",
       "498  1.272550  5.500882  1.534153  0.000013  0.347752  0.173365\n",
       "499  1.149586  4.871932  1.436767  0.000012  0.069851  0.071562\n",
       "\n",
       "[500 rows x 6 columns]"
      ]
     },
     "execution_count": 11,
     "metadata": {},
     "output_type": "execute_result"
    }
   ],
   "source": [
    "import statsmodels.formula.api as smf\n",
    "import numpy as np\n",
    "import pandas as pd\n",
    "from model_pipe import fcn\n",
    "\n",
    "## Simulate collecting data\n",
    "np.random.seed(101)\n",
    "n_data = 500\n",
    "\n",
    "Q_names = [\"rho\", \"U\", \"D\", \"mu\", \"eps\"]\n",
    "Q_lo = np.array([1.0, 1.0e+0, 1.3, 1.0e-5, 0.5e-1])\n",
    "Q_hi = np.array([1.4, 1.0e+1, 1.7, 1.5e-5, 4.0e-1])\n",
    "Q_all = np.random.random((n_data, len(Q_lo))) * (Q_hi - Q_lo) + Q_lo\n",
    "\n",
    "F_all = np.zeros(n_data)\n",
    "for i in range(n_data):\n",
    "    res = fcn(Q_all[i])\n",
    "    F_all[i] = res\n",
    "\n",
    "df_data = pd.DataFrame(\n",
    "    data=Q_all,\n",
    "    index=range(n_data),\n",
    "    columns=Q_names\n",
    ")\n",
    "df_data[\"f\"] = F_all\n",
    "df_data\n"
   ]
  },
  {
   "cell_type": "markdown",
   "metadata": {},
   "source": [
    "To perform empirical dimension reduction, we will carry out ordinary least squares to regress the output `f` on the inputs `rho, U, D, mu, eps`. However, if we **log transform** our inputs, any *linear* dimension reduction can be interpreted as a product of the inputs [2]. This will allow us to combine dimension reduction with dimensional analysis. To illustrate:"
   ]
  },
  {
   "cell_type": "code",
   "execution_count": 12,
   "metadata": {},
   "outputs": [
    {
     "data": {
      "text/html": [
       "<table class=\"simpletable\">\n",
       "<caption>OLS Regression Results</caption>\n",
       "<tr>\n",
       "  <th>Dep. Variable:</th>            <td>f</td>        <th>  R-squared:         </th> <td>   0.944</td> \n",
       "</tr>\n",
       "<tr>\n",
       "  <th>Model:</th>                   <td>OLS</td>       <th>  Adj. R-squared:    </th> <td>   0.943</td> \n",
       "</tr>\n",
       "<tr>\n",
       "  <th>Method:</th>             <td>Least Squares</td>  <th>  F-statistic:       </th> <td>   1662.</td> \n",
       "</tr>\n",
       "<tr>\n",
       "  <th>Date:</th>             <td>Wed, 07 Jul 2021</td> <th>  Prob (F-statistic):</th> <td>2.78e-306</td>\n",
       "</tr>\n",
       "<tr>\n",
       "  <th>Time:</th>                 <td>08:31:10</td>     <th>  Log-Likelihood:    </th> <td>  1641.5</td> \n",
       "</tr>\n",
       "<tr>\n",
       "  <th>No. Observations:</th>      <td>   500</td>      <th>  AIC:               </th> <td>  -3271.</td> \n",
       "</tr>\n",
       "<tr>\n",
       "  <th>Df Residuals:</th>          <td>   494</td>      <th>  BIC:               </th> <td>  -3246.</td> \n",
       "</tr>\n",
       "<tr>\n",
       "  <th>Df Model:</th>              <td>     5</td>      <th>                     </th>     <td> </td>    \n",
       "</tr>\n",
       "<tr>\n",
       "  <th>Covariance Type:</th>      <td>nonrobust</td>    <th>                     </th>     <td> </td>    \n",
       "</tr>\n",
       "</table>\n",
       "<table class=\"simpletable\">\n",
       "<tr>\n",
       "      <td></td>         <th>coef</th>     <th>std err</th>      <th>t</th>      <th>P>|t|</th>  <th>[0.025</th>    <th>0.975]</th>  \n",
       "</tr>\n",
       "<tr>\n",
       "  <th>Intercept</th> <td>    0.2707</td> <td>    0.040</td> <td>    6.791</td> <td> 0.000</td> <td>    0.192</td> <td>    0.349</td>\n",
       "</tr>\n",
       "<tr>\n",
       "  <th>rho</th>       <td>    0.0005</td> <td>    0.004</td> <td>    0.106</td> <td> 0.915</td> <td>   -0.008</td> <td>    0.009</td>\n",
       "</tr>\n",
       "<tr>\n",
       "  <th>U</th>         <td>   -0.0007</td> <td>    0.001</td> <td>   -1.075</td> <td> 0.283</td> <td>   -0.002</td> <td>    0.001</td>\n",
       "</tr>\n",
       "<tr>\n",
       "  <th>D</th>         <td>   -0.0830</td> <td>    0.005</td> <td>  -15.564</td> <td> 0.000</td> <td>   -0.093</td> <td>   -0.072</td>\n",
       "</tr>\n",
       "<tr>\n",
       "  <th>mu</th>        <td>   -0.0006</td> <td>    0.004</td> <td>   -0.181</td> <td> 0.856</td> <td>   -0.008</td> <td>    0.006</td>\n",
       "</tr>\n",
       "<tr>\n",
       "  <th>eps</th>       <td>    0.0695</td> <td>    0.001</td> <td>   89.250</td> <td> 0.000</td> <td>    0.068</td> <td>    0.071</td>\n",
       "</tr>\n",
       "</table>\n",
       "<table class=\"simpletable\">\n",
       "<tr>\n",
       "  <th>Omnibus:</th>       <td>55.973</td> <th>  Durbin-Watson:     </th> <td>   1.897</td>\n",
       "</tr>\n",
       "<tr>\n",
       "  <th>Prob(Omnibus):</th> <td> 0.000</td> <th>  Jarque-Bera (JB):  </th> <td>  72.840</td>\n",
       "</tr>\n",
       "<tr>\n",
       "  <th>Skew:</th>          <td> 0.931</td> <th>  Prob(JB):          </th> <td>1.52e-16</td>\n",
       "</tr>\n",
       "<tr>\n",
       "  <th>Kurtosis:</th>      <td> 3.179</td> <th>  Cond. No.          </th> <td>1.13e+03</td>\n",
       "</tr>\n",
       "</table><br/><br/>Warnings:<br/>[1] Standard Errors assume that the covariance matrix of the errors is correctly specified.<br/>[2] The condition number is large, 1.13e+03. This might indicate that there are<br/>strong multicollinearity or other numerical problems."
      ],
      "text/plain": [
       "<class 'statsmodels.iolib.summary.Summary'>\n",
       "\"\"\"\n",
       "                            OLS Regression Results                            \n",
       "==============================================================================\n",
       "Dep. Variable:                      f   R-squared:                       0.944\n",
       "Model:                            OLS   Adj. R-squared:                  0.943\n",
       "Method:                 Least Squares   F-statistic:                     1662.\n",
       "Date:                Wed, 07 Jul 2021   Prob (F-statistic):          2.78e-306\n",
       "Time:                        08:31:10   Log-Likelihood:                 1641.5\n",
       "No. Observations:                 500   AIC:                            -3271.\n",
       "Df Residuals:                     494   BIC:                            -3246.\n",
       "Df Model:                           5                                         \n",
       "Covariance Type:            nonrobust                                         \n",
       "==============================================================================\n",
       "                 coef    std err          t      P>|t|      [0.025      0.975]\n",
       "------------------------------------------------------------------------------\n",
       "Intercept      0.2707      0.040      6.791      0.000       0.192       0.349\n",
       "rho            0.0005      0.004      0.106      0.915      -0.008       0.009\n",
       "U             -0.0007      0.001     -1.075      0.283      -0.002       0.001\n",
       "D             -0.0830      0.005    -15.564      0.000      -0.093      -0.072\n",
       "mu            -0.0006      0.004     -0.181      0.856      -0.008       0.006\n",
       "eps            0.0695      0.001     89.250      0.000       0.068       0.071\n",
       "==============================================================================\n",
       "Omnibus:                       55.973   Durbin-Watson:                   1.897\n",
       "Prob(Omnibus):                  0.000   Jarque-Bera (JB):               72.840\n",
       "Skew:                           0.931   Prob(JB):                     1.52e-16\n",
       "Kurtosis:                       3.179   Cond. No.                     1.13e+03\n",
       "==============================================================================\n",
       "\n",
       "Warnings:\n",
       "[1] Standard Errors assume that the covariance matrix of the errors is correctly specified.\n",
       "[2] The condition number is large, 1.13e+03. This might indicate that there are\n",
       "strong multicollinearity or other numerical problems.\n",
       "\"\"\""
      ]
     },
     "execution_count": 12,
     "metadata": {},
     "output_type": "execute_result"
    }
   ],
   "source": [
    "df_log = df_data.copy()\n",
    "df_log[Q_names] = np.log(df_log[Q_names])\n",
    "df_log\n",
    "\n",
    "lm = smf.ols(\n",
    "    \"f ~ rho + U + D + mu + eps\",\n",
    "    data=df_log\n",
    ").fit()\n",
    "lm.summary()"
   ]
  },
  {
   "cell_type": "markdown",
   "metadata": {},
   "source": [
    "The regression diagnostics above indicate that the fit is quite accurate with an $R^2 = 0.98$. Next we extract the regression coefficients and package them for `pybuck` with the following recipe."
   ]
  },
  {
   "cell_type": "code",
   "execution_count": 13,
   "metadata": {},
   "outputs": [],
   "source": [
    "df_dr = pd.DataFrame({\n",
    "    \"rowname\": lm.params.index[1:],\n",
    "    \"pi\": lm.params.values[1:]\n",
    "})\n",
    "df_dr = normalize(df_dr)\n"
   ]
  },
  {
   "cell_type": "markdown",
   "metadata": {},
   "source": [
    "We can check the physical units of this proposed direction. This is a diagnostic quantity; if things go wrong, it will help us determine how they went wrong (as we'll see in the example below)."
   ]
  },
  {
   "cell_type": "code",
   "execution_count": 14,
   "metadata": {},
   "outputs": [
    {
     "data": {
      "text/html": [
       "<div>\n",
       "<style scoped>\n",
       "    .dataframe tbody tr th:only-of-type {\n",
       "        vertical-align: middle;\n",
       "    }\n",
       "\n",
       "    .dataframe tbody tr th {\n",
       "        vertical-align: top;\n",
       "    }\n",
       "\n",
       "    .dataframe thead th {\n",
       "        text-align: right;\n",
       "    }\n",
       "</style>\n",
       "<table border=\"1\" class=\"dataframe\">\n",
       "  <thead>\n",
       "    <tr style=\"text-align: right;\">\n",
       "      <th></th>\n",
       "      <th>rowname</th>\n",
       "      <th>pi</th>\n",
       "    </tr>\n",
       "  </thead>\n",
       "  <tbody>\n",
       "    <tr>\n",
       "      <th>0</th>\n",
       "      <td>L</td>\n",
       "      <td>-0.137704</td>\n",
       "    </tr>\n",
       "    <tr>\n",
       "      <th>1</th>\n",
       "      <td>T</td>\n",
       "      <td>0.012671</td>\n",
       "    </tr>\n",
       "    <tr>\n",
       "      <th>2</th>\n",
       "      <td>M</td>\n",
       "      <td>-0.001626</td>\n",
       "    </tr>\n",
       "  </tbody>\n",
       "</table>\n",
       "</div>"
      ],
      "text/plain": [
       "  rowname        pi\n",
       "0       L -0.137704\n",
       "1       T  0.012671\n",
       "2       M -0.001626"
      ]
     },
     "execution_count": 14,
     "metadata": {},
     "output_type": "execute_result"
    }
   ],
   "source": [
    "inner(df_dim, df_dr)"
   ]
  },
  {
   "cell_type": "markdown",
   "metadata": {},
   "source": [
    "This is very nearly dimensionless, which doesn't indicate any issues with lurking variables. \n",
    "\n",
    "We can re-express this number in terms of our standard basis."
   ]
  },
  {
   "cell_type": "code",
   "execution_count": 15,
   "metadata": {},
   "outputs": [
    {
     "data": {
      "text/html": [
       "<div>\n",
       "<style scoped>\n",
       "    .dataframe tbody tr th:only-of-type {\n",
       "        vertical-align: middle;\n",
       "    }\n",
       "\n",
       "    .dataframe tbody tr th {\n",
       "        vertical-align: top;\n",
       "    }\n",
       "\n",
       "    .dataframe thead th {\n",
       "        text-align: right;\n",
       "    }\n",
       "</style>\n",
       "<table border=\"1\" class=\"dataframe\">\n",
       "  <thead>\n",
       "    <tr style=\"text-align: right;\">\n",
       "      <th></th>\n",
       "      <th>rowname</th>\n",
       "      <th>pi</th>\n",
       "    </tr>\n",
       "  </thead>\n",
       "  <tbody>\n",
       "    <tr>\n",
       "      <th>0</th>\n",
       "      <td>Re</td>\n",
       "      <td>-0.016768</td>\n",
       "    </tr>\n",
       "    <tr>\n",
       "      <th>1</th>\n",
       "      <td>R</td>\n",
       "      <td>0.695963</td>\n",
       "    </tr>\n",
       "  </tbody>\n",
       "</table>\n",
       "</div>"
      ],
      "text/plain": [
       "  rowname        pi\n",
       "0      Re -0.016768\n",
       "1       R  0.695963"
      ]
     },
     "execution_count": 15,
     "metadata": {},
     "output_type": "execute_result"
    }
   ],
   "source": [
    "express(df_dr, df_standard)"
   ]
  },
  {
   "cell_type": "markdown",
   "metadata": {},
   "source": [
    "Re-expression reveals that the empirical dimension reduction has recovered the relative roughness `R`, which fully describes the output variation in the setting considered."
   ]
  },
  {
   "cell_type": "markdown",
   "metadata": {},
   "source": [
    "### ASIDE:\n"
   ]
  },
  {
   "cell_type": "code",
   "execution_count": 16,
   "metadata": {},
   "outputs": [
    {
     "name": "stderr",
     "output_type": "stream",
     "text": [
      "Warning: Index.__and__ operating as a set operation is deprecated, in the future this will be a logical operation matching Series.__and__.  Use index.intersection(other) instead\n",
      "Warning: Index.__and__ operating as a set operation is deprecated, in the future this will be a logical operation matching Series.__and__.  Use index.intersection(other) instead\n"
     ]
    },
    {
     "data": {
      "image/png": "[encoded data removed]",
      "text/plain": [
       "<Figure size 640x158.766 with 2 Axes>"
      ]
     },
     "metadata": {
      "needs_background": "light"
     },
     "output_type": "display_data"
    },
    {
     "data": {
      "text/plain": [
       "<ggplot: (8782841212621)>"
      ]
     },
     "execution_count": 16,
     "metadata": {},
     "output_type": "execute_result"
    }
   ],
   "source": [
    "(\n",
    "    df_data\n",
    "    >> gr.tf_mutate(\n",
    "        Reynolds=DF.rho * DF.U * DF.D / DF.mu,\n",
    "        Roughness=DF.eps / DF.D,\n",
    "    )\n",
    "    \n",
    "    >> gr.tf_gather(\n",
    "        \"pi\",\n",
    "        \"xi\",\n",
    "        [\"Reynolds\", \"Roughness\"]\n",
    "    )\n",
    "    \n",
    "    >> ggplot(aes(\"xi\", \"f\"))\n",
    "    + geom_point()\n",
    "    \n",
    "    + facet_grid(\"~pi\", scales=\"free_x\")\n",
    "    + theme_minimal()\n",
    "    + theme(aspect_ratio=1/2)\n",
    "    + labs(\n",
    "        x=\"Dimensionless Predictor\",\n",
    "        y=\"Friction Factor\"\n",
    "    )\n",
    ")"
   ]
  },
  {
   "cell_type": "markdown",
   "metadata": {},
   "source": [
    "## Lurking Variable Detection\n",
    "\n",
    "Finally, we slightly modify the problem above to demonstrate *lurking variable detection*.\n",
    "\n",
    "Suppose that during data collection we did not know that `eps` is a physical input. In this case, we would not know to vary it in our experiments, and it might remain fixed to an unknown value. To model this, we fix `eps=0.1` in data generation."
   ]
  },
  {
   "cell_type": "code",
   "execution_count": 17,
   "metadata": {},
   "outputs": [
    {
     "data": {
      "text/html": [
       "<div>\n",
       "<style scoped>\n",
       "    .dataframe tbody tr th:only-of-type {\n",
       "        vertical-align: middle;\n",
       "    }\n",
       "\n",
       "    .dataframe tbody tr th {\n",
       "        vertical-align: top;\n",
       "    }\n",
       "\n",
       "    .dataframe thead th {\n",
       "        text-align: right;\n",
       "    }\n",
       "</style>\n",
       "<table border=\"1\" class=\"dataframe\">\n",
       "  <thead>\n",
       "    <tr style=\"text-align: right;\">\n",
       "      <th></th>\n",
       "      <th>rho</th>\n",
       "      <th>U</th>\n",
       "      <th>D</th>\n",
       "      <th>mu</th>\n",
       "      <th>eps</th>\n",
       "      <th>f</th>\n",
       "    </tr>\n",
       "  </thead>\n",
       "  <tbody>\n",
       "    <tr>\n",
       "      <th>0</th>\n",
       "      <td>1.206559</td>\n",
       "      <td>6.136008</td>\n",
       "      <td>1.311390</td>\n",
       "      <td>0.000011</td>\n",
       "      <td>0.1</td>\n",
       "      <td>0.089230</td>\n",
       "    </tr>\n",
       "    <tr>\n",
       "      <th>1</th>\n",
       "      <td>1.333559</td>\n",
       "      <td>3.762696</td>\n",
       "      <td>1.657445</td>\n",
       "      <td>0.000014</td>\n",
       "      <td>0.1</td>\n",
       "      <td>0.079317</td>\n",
       "    </tr>\n",
       "    <tr>\n",
       "      <th>2</th>\n",
       "      <td>1.221691</td>\n",
       "      <td>4.169188</td>\n",
       "      <td>1.372757</td>\n",
       "      <td>0.000014</td>\n",
       "      <td>0.1</td>\n",
       "      <td>0.087167</td>\n",
       "    </tr>\n",
       "    <tr>\n",
       "      <th>3</th>\n",
       "      <td>1.092941</td>\n",
       "      <td>1.752053</td>\n",
       "      <td>1.541419</td>\n",
       "      <td>0.000014</td>\n",
       "      <td>0.1</td>\n",
       "      <td>0.082266</td>\n",
       "    </tr>\n",
       "    <tr>\n",
       "      <th>4</th>\n",
       "      <td>1.274123</td>\n",
       "      <td>5.660807</td>\n",
       "      <td>1.319394</td>\n",
       "      <td>0.000011</td>\n",
       "      <td>0.1</td>\n",
       "      <td>0.088949</td>\n",
       "    </tr>\n",
       "    <tr>\n",
       "      <th>...</th>\n",
       "      <td>...</td>\n",
       "      <td>...</td>\n",
       "      <td>...</td>\n",
       "      <td>...</td>\n",
       "      <td>...</td>\n",
       "      <td>...</td>\n",
       "    </tr>\n",
       "    <tr>\n",
       "      <th>495</th>\n",
       "      <td>1.075016</td>\n",
       "      <td>9.246646</td>\n",
       "      <td>1.401458</td>\n",
       "      <td>0.000013</td>\n",
       "      <td>0.1</td>\n",
       "      <td>0.086231</td>\n",
       "    </tr>\n",
       "    <tr>\n",
       "      <th>496</th>\n",
       "      <td>1.280810</td>\n",
       "      <td>2.387921</td>\n",
       "      <td>1.335002</td>\n",
       "      <td>0.000014</td>\n",
       "      <td>0.1</td>\n",
       "      <td>0.088452</td>\n",
       "    </tr>\n",
       "    <tr>\n",
       "      <th>497</th>\n",
       "      <td>1.263388</td>\n",
       "      <td>5.166624</td>\n",
       "      <td>1.508881</td>\n",
       "      <td>0.000013</td>\n",
       "      <td>0.1</td>\n",
       "      <td>0.083080</td>\n",
       "    </tr>\n",
       "    <tr>\n",
       "      <th>498</th>\n",
       "      <td>1.272550</td>\n",
       "      <td>5.500882</td>\n",
       "      <td>1.534153</td>\n",
       "      <td>0.000013</td>\n",
       "      <td>0.1</td>\n",
       "      <td>0.082392</td>\n",
       "    </tr>\n",
       "    <tr>\n",
       "      <th>499</th>\n",
       "      <td>1.149586</td>\n",
       "      <td>4.871932</td>\n",
       "      <td>1.436767</td>\n",
       "      <td>0.000012</td>\n",
       "      <td>0.1</td>\n",
       "      <td>0.085156</td>\n",
       "    </tr>\n",
       "  </tbody>\n",
       "</table>\n",
       "<p>500 rows × 6 columns</p>\n",
       "</div>"
      ],
      "text/plain": [
       "          rho         U         D        mu  eps         f\n",
       "0    1.206559  6.136008  1.311390  0.000011  0.1  0.089230\n",
       "1    1.333559  3.762696  1.657445  0.000014  0.1  0.079317\n",
       "2    1.221691  4.169188  1.372757  0.000014  0.1  0.087167\n",
       "3    1.092941  1.752053  1.541419  0.000014  0.1  0.082266\n",
       "4    1.274123  5.660807  1.319394  0.000011  0.1  0.088949\n",
       "..        ...       ...       ...       ...  ...       ...\n",
       "495  1.075016  9.246646  1.401458  0.000013  0.1  0.086231\n",
       "496  1.280810  2.387921  1.335002  0.000014  0.1  0.088452\n",
       "497  1.263388  5.166624  1.508881  0.000013  0.1  0.083080\n",
       "498  1.272550  5.500882  1.534153  0.000013  0.1  0.082392\n",
       "499  1.149586  4.871932  1.436767  0.000012  0.1  0.085156\n",
       "\n",
       "[500 rows x 6 columns]"
      ]
     },
     "execution_count": 17,
     "metadata": {},
     "output_type": "execute_result"
    }
   ],
   "source": [
    "## Generate frozen-eps data\n",
    "Fp_all = np.zeros(n_data)\n",
    "Qp_all = Q_all\n",
    "Qp_all[:, 4] = [0.1] * n_data\n",
    "\n",
    "for i in range(n_data):\n",
    "    Fp_all[i] = fcn(Qp_all[i])\n",
    "\n",
    "df_frz = pd.DataFrame(\n",
    "    data=Qp_all,\n",
    "    index=range(n_data),\n",
    "    columns=Q_names\n",
    ")\n",
    "df_frz[\"f\"] = Fp_all\n",
    "df_frz\n"
   ]
  },
  {
   "cell_type": "markdown",
   "metadata": {},
   "source": [
    "We repeat computing a linear dimension reduction on the frozen data."
   ]
  },
  {
   "cell_type": "code",
   "execution_count": 18,
   "metadata": {},
   "outputs": [
    {
     "name": "stdout",
     "output_type": "stream",
     "text": [
      "  rowname         D         U        mu       rho\n",
      "0      pi -0.992725  0.006045 -0.119729  0.011206\n"
     ]
    }
   ],
   "source": [
    "df_frz_log = df_data.copy()\n",
    "df_frz_log[Q_names] = np.log(df_frz_log[Q_names])\n",
    "df_frz_log\n",
    "\n",
    "lm_frz = smf.ols(\n",
    "    \"f ~ rho + U + D + mu\",\n",
    "    data=df_frz_log\n",
    ").fit()\n",
    "\n",
    "df_frz_dr = pd.DataFrame({\n",
    "    \"rowname\": lm_frz.params.index[1:],\n",
    "    \"pi\": lm_frz.params.values[1:]\n",
    "})\n",
    "df_frz_dr = normalize(df_frz_dr)\n",
    "print(transpose(df_frz_dr))"
   ]
  },
  {
   "cell_type": "markdown",
   "metadata": {},
   "source": [
    "Let's inspect the physical dimensions of `df_frz_dr`."
   ]
  },
  {
   "cell_type": "code",
   "execution_count": 19,
   "metadata": {},
   "outputs": [
    {
     "name": "stdout",
     "output_type": "stream",
     "text": [
      "  rowname        pi\n",
      "0       L -0.900568\n",
      "1       T  0.113684\n",
      "2       M -0.108523\n"
     ]
    }
   ],
   "source": [
    "print(inner(df_dim, df_frz_dr))"
   ]
  },
  {
   "cell_type": "markdown",
   "metadata": {},
   "source": [
    "This direction is not dimensionless! This indicates that a lurking variable is present, and it has units of `L`. This procedure has correctly identified the presence of our lurking variable `eps` which has dimensions $[\\epsilon] = L$. "
   ]
  },
  {
   "cell_type": "markdown",
   "metadata": {},
   "source": [
    "# Bibliography\n",
    "\n",
    "---\n",
    "\n",
    "[1] O. Reynolds, \"An experimental investigation of the circumstances which determine whether the motion of water shall be direct or sinuous, and of the law of resistance in parallel channels\" (1883) *Royal Society*\n",
    "\n",
    "[2] Z. del Rosario, M. Lee, and G. Iaccarino, \"Lurking Variable Detection via Dimensional Analysis\" (2019) *SIAM/ASA Journal on Uncertainty Quantification*"
   ]
  }
 ],
 "metadata": {
  "kernelspec": {
   "display_name": "Python 3 (ipykernel)",
   "language": "python",
   "name": "python3"
  },
  "language_info": {
   "codemirror_mode": {
    "name": "ipython",
    "version": 3
   },
   "file_extension": ".py",
   "mimetype": "text/x-python",
   "name": "python",
   "nbconvert_exporter": "python",
   "pygments_lexer": "ipython3",
   "version": "3.7.4"
  }
 },
 "nbformat": 4,
 "nbformat_minor": 4
}
