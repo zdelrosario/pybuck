{
 "cells": [
  {
   "cell_type": "markdown",
   "metadata": {},
   "source": [
    "# Quick Tour\n",
    "\n",
    "---\n",
    "\n",
    "This is a quick tour of `pybuck`---a package to support dimensional analysis in Python.\n",
    "\n",
    "## Basic Dimensional Analysis\n",
    "\n",
    "First we demonstrate some basic tasks in dimensional analysis; the `pybuck` package automates many basic computations."
   ]
  },
  {
   "cell_type": "code",
   "execution_count": 1,
   "metadata": {},
   "outputs": [],
   "source": [
    "from pybuck import *\n"
   ]
  },
  {
   "cell_type": "markdown",
   "metadata": {},
   "source": [
    "We are studying the *Reynolds' pipe flow problem* [1], which has physical inputs:\n",
    "\n",
    "| Input | Symbol | Units |\n",
    "|--|--|--|\n",
    "| Fluid density | $\\rho$ | $\\frac{M}{L^3}$ |\n",
    "| Fluid bulk velocity | $U$ | $\\frac{L}{T}$ |\n",
    "| Pipe diameter | $D$ | $L$ |\n",
    "| Fluid dynamic viscosity | $\\mu$ | $\\frac{M}{LT}$ |\n",
    "| Roughness lengthscale | $\\epsilon$ | $L$ |\n",
    "\n",
    "We construct the *dimension matrix* [2] with compact syntax. Zeros are automatically filled in."
   ]
  },
  {
   "cell_type": "code",
   "execution_count": 2,
   "metadata": {},
   "outputs": [
    {
     "data": {
      "text/html": [
       "<div>\n",
       "<style scoped>\n",
       "    .dataframe tbody tr th:only-of-type {\n",
       "        vertical-align: middle;\n",
       "    }\n",
       "\n",
       "    .dataframe tbody tr th {\n",
       "        vertical-align: top;\n",
       "    }\n",
       "\n",
       "    .dataframe thead th {\n",
       "        text-align: right;\n",
       "    }\n",
       "</style>\n",
       "<table border=\"1\" class=\"dataframe\">\n",
       "  <thead>\n",
       "    <tr style=\"text-align: right;\">\n",
       "      <th></th>\n",
       "      <th>rowname</th>\n",
       "      <th>rho</th>\n",
       "      <th>U</th>\n",
       "      <th>D</th>\n",
       "      <th>mu</th>\n",
       "      <th>eps</th>\n",
       "    </tr>\n",
       "  </thead>\n",
       "  <tbody>\n",
       "    <tr>\n",
       "      <td>0</td>\n",
       "      <td>M</td>\n",
       "      <td>1</td>\n",
       "      <td>0</td>\n",
       "      <td>0</td>\n",
       "      <td>1</td>\n",
       "      <td>0</td>\n",
       "    </tr>\n",
       "    <tr>\n",
       "      <td>1</td>\n",
       "      <td>L</td>\n",
       "      <td>-3</td>\n",
       "      <td>1</td>\n",
       "      <td>1</td>\n",
       "      <td>-1</td>\n",
       "      <td>1</td>\n",
       "    </tr>\n",
       "    <tr>\n",
       "      <td>2</td>\n",
       "      <td>T</td>\n",
       "      <td>0</td>\n",
       "      <td>-1</td>\n",
       "      <td>0</td>\n",
       "      <td>-1</td>\n",
       "      <td>0</td>\n",
       "    </tr>\n",
       "  </tbody>\n",
       "</table>\n",
       "</div>"
      ],
      "text/plain": [
       "  rowname  rho  U  D  mu  eps\n",
       "0       M    1  0  0   1    0\n",
       "1       L   -3  1  1  -1    1\n",
       "2       T    0 -1  0  -1    0"
      ]
     },
     "execution_count": 2,
     "metadata": {},
     "output_type": "execute_result"
    }
   ],
   "source": [
    "df_dim = col_matrix(\n",
    "    rho = dict(M=1, L=-3),\n",
    "    U   = dict(L=1, T=-1),\n",
    "    D   = dict(L=1),\n",
    "    mu  = dict(M=1, L=-1, T=-1),\n",
    "    eps = dict(L=1)\n",
    ")\n",
    "df_dim\n"
   ]
  },
  {
   "cell_type": "markdown",
   "metadata": {},
   "source": [
    "This is a standardized way to represent the physical units of the inputs. We can check the physical units of a power-product of the inputs above through an inner product. Note that $\\frac{1}{2}\\rho U^2$ is *dynamic pressure*, so it should have the units of pressure $\\left[\\frac{M}{LT^2}\\right]$. Dimensionless constants are ignored when performing dimensional analysis."
   ]
  },
  {
   "cell_type": "code",
   "execution_count": 3,
   "metadata": {},
   "outputs": [
    {
     "data": {
      "text/html": [
       "<div>\n",
       "<style scoped>\n",
       "    .dataframe tbody tr th:only-of-type {\n",
       "        vertical-align: middle;\n",
       "    }\n",
       "\n",
       "    .dataframe tbody tr th {\n",
       "        vertical-align: top;\n",
       "    }\n",
       "\n",
       "    .dataframe thead th {\n",
       "        text-align: right;\n",
       "    }\n",
       "</style>\n",
       "<table border=\"1\" class=\"dataframe\">\n",
       "  <thead>\n",
       "    <tr style=\"text-align: right;\">\n",
       "      <th></th>\n",
       "      <th>rowname</th>\n",
       "      <th>q</th>\n",
       "    </tr>\n",
       "  </thead>\n",
       "  <tbody>\n",
       "    <tr>\n",
       "      <td>0</td>\n",
       "      <td>M</td>\n",
       "      <td>1</td>\n",
       "    </tr>\n",
       "    <tr>\n",
       "      <td>1</td>\n",
       "      <td>L</td>\n",
       "      <td>-1</td>\n",
       "    </tr>\n",
       "    <tr>\n",
       "      <td>2</td>\n",
       "      <td>T</td>\n",
       "      <td>-2</td>\n",
       "    </tr>\n",
       "  </tbody>\n",
       "</table>\n",
       "</div>"
      ],
      "text/plain": [
       "  rowname  q\n",
       "0       M  1\n",
       "1       L -1\n",
       "2       T -2"
      ]
     },
     "execution_count": 3,
     "metadata": {},
     "output_type": "execute_result"
    }
   ],
   "source": [
    "df_weights = col_matrix(q = dict(rho=1, U=2))\n",
    "df_res = inner(df_dim, df_weights)\n",
    "df_res\n"
   ]
  },
  {
   "cell_type": "markdown",
   "metadata": {},
   "source": [
    "We can compute a basis for the nullspace of `df_dim`; this subspace is called the *pi subspace*."
   ]
  },
  {
   "cell_type": "code",
   "execution_count": 4,
   "metadata": {},
   "outputs": [
    {
     "data": {
      "text/html": [
       "<div>\n",
       "<style scoped>\n",
       "    .dataframe tbody tr th:only-of-type {\n",
       "        vertical-align: middle;\n",
       "    }\n",
       "\n",
       "    .dataframe tbody tr th {\n",
       "        vertical-align: top;\n",
       "    }\n",
       "\n",
       "    .dataframe thead th {\n",
       "        text-align: right;\n",
       "    }\n",
       "</style>\n",
       "<table border=\"1\" class=\"dataframe\">\n",
       "  <thead>\n",
       "    <tr style=\"text-align: right;\">\n",
       "      <th></th>\n",
       "      <th>rowname</th>\n",
       "      <th>pi0</th>\n",
       "      <th>pi1</th>\n",
       "    </tr>\n",
       "  </thead>\n",
       "  <tbody>\n",
       "    <tr>\n",
       "      <td>0</td>\n",
       "      <td>rho</td>\n",
       "      <td>-0.533558</td>\n",
       "      <td>0.032104</td>\n",
       "    </tr>\n",
       "    <tr>\n",
       "      <td>1</td>\n",
       "      <td>U</td>\n",
       "      <td>-0.533558</td>\n",
       "      <td>0.032104</td>\n",
       "    </tr>\n",
       "    <tr>\n",
       "      <td>2</td>\n",
       "      <td>D</td>\n",
       "      <td>-0.309248</td>\n",
       "      <td>-0.689778</td>\n",
       "    </tr>\n",
       "    <tr>\n",
       "      <td>3</td>\n",
       "      <td>mu</td>\n",
       "      <td>0.533558</td>\n",
       "      <td>-0.032104</td>\n",
       "    </tr>\n",
       "    <tr>\n",
       "      <td>4</td>\n",
       "      <td>eps</td>\n",
       "      <td>-0.224310</td>\n",
       "      <td>0.721882</td>\n",
       "    </tr>\n",
       "  </tbody>\n",
       "</table>\n",
       "</div>"
      ],
      "text/plain": [
       "  rowname       pi0       pi1\n",
       "0     rho -0.533558  0.032104\n",
       "1       U -0.533558  0.032104\n",
       "2       D -0.309248 -0.689778\n",
       "3      mu  0.533558 -0.032104\n",
       "4     eps -0.224310  0.721882"
      ]
     },
     "execution_count": 4,
     "metadata": {},
     "output_type": "execute_result"
    }
   ],
   "source": [
    "df_pi = pi_basis(df_dim)\n",
    "df_pi\n"
   ]
  },
  {
   "cell_type": "markdown",
   "metadata": {},
   "source": [
    "This shows us that the pi subspace is two-dimensional. The weights are fairly non-standard; a more familiar set are the *Reynolds number* and the *relative roughness*."
   ]
  },
  {
   "cell_type": "code",
   "execution_count": 5,
   "metadata": {},
   "outputs": [
    {
     "data": {
      "text/html": [
       "<div>\n",
       "<style scoped>\n",
       "    .dataframe tbody tr th:only-of-type {\n",
       "        vertical-align: middle;\n",
       "    }\n",
       "\n",
       "    .dataframe tbody tr th {\n",
       "        vertical-align: top;\n",
       "    }\n",
       "\n",
       "    .dataframe thead th {\n",
       "        text-align: right;\n",
       "    }\n",
       "</style>\n",
       "<table border=\"1\" class=\"dataframe\">\n",
       "  <thead>\n",
       "    <tr style=\"text-align: right;\">\n",
       "      <th></th>\n",
       "      <th>rowname</th>\n",
       "      <th>Re</th>\n",
       "      <th>R</th>\n",
       "    </tr>\n",
       "  </thead>\n",
       "  <tbody>\n",
       "    <tr>\n",
       "      <td>0</td>\n",
       "      <td>U</td>\n",
       "      <td>1</td>\n",
       "      <td>0</td>\n",
       "    </tr>\n",
       "    <tr>\n",
       "      <td>1</td>\n",
       "      <td>rho</td>\n",
       "      <td>1</td>\n",
       "      <td>0</td>\n",
       "    </tr>\n",
       "    <tr>\n",
       "      <td>2</td>\n",
       "      <td>D</td>\n",
       "      <td>1</td>\n",
       "      <td>-1</td>\n",
       "    </tr>\n",
       "    <tr>\n",
       "      <td>3</td>\n",
       "      <td>mu</td>\n",
       "      <td>-1</td>\n",
       "      <td>0</td>\n",
       "    </tr>\n",
       "    <tr>\n",
       "      <td>4</td>\n",
       "      <td>eps</td>\n",
       "      <td>0</td>\n",
       "      <td>1</td>\n",
       "    </tr>\n",
       "  </tbody>\n",
       "</table>\n",
       "</div>"
      ],
      "text/plain": [
       "  rowname  Re  R\n",
       "0       U   1  0\n",
       "1     rho   1  0\n",
       "2       D   1 -1\n",
       "3      mu  -1  0\n",
       "4     eps   0  1"
      ]
     },
     "execution_count": 5,
     "metadata": {},
     "output_type": "execute_result"
    }
   ],
   "source": [
    "df_standard = col_matrix(\n",
    "    Re = dict(rho=1, U=1, D=1, mu=-1), # Reynolds number\n",
    "    R  = dict(eps=1, D=-1)             # Relative roughness\n",
    ")\n",
    "df_standard\n"
   ]
  },
  {
   "cell_type": "markdown",
   "metadata": {},
   "source": [
    "We can check that these two bases are the same by computing the *subspace angles* between them:"
   ]
  },
  {
   "cell_type": "code",
   "execution_count": 6,
   "metadata": {},
   "outputs": [
    {
     "data": {
      "text/plain": [
       "array([2.83863208e-16, 1.95333715e-16])"
      ]
     },
     "execution_count": 6,
     "metadata": {},
     "output_type": "execute_result"
    }
   ],
   "source": [
    "angles(df_standard, df_pi)"
   ]
  },
  {
   "cell_type": "markdown",
   "metadata": {},
   "source": [
    "All subspace angles are zero to working precision; these two bases express the same subspace.\n",
    "\n",
    "Since these are the same subspace, we can re-express the computed basis `df_pi` in terms of the standard basis `df_standard`. This will allow us to physically interpret the computationally-derived weights."
   ]
  },
  {
   "cell_type": "code",
   "execution_count": 7,
   "metadata": {},
   "outputs": [
    {
     "data": {
      "text/html": [
       "<div>\n",
       "<style scoped>\n",
       "    .dataframe tbody tr th:only-of-type {\n",
       "        vertical-align: middle;\n",
       "    }\n",
       "\n",
       "    .dataframe tbody tr th {\n",
       "        vertical-align: top;\n",
       "    }\n",
       "\n",
       "    .dataframe thead th {\n",
       "        text-align: right;\n",
       "    }\n",
       "</style>\n",
       "<table border=\"1\" class=\"dataframe\">\n",
       "  <thead>\n",
       "    <tr style=\"text-align: right;\">\n",
       "      <th></th>\n",
       "      <th>rowname</th>\n",
       "      <th>pi0</th>\n",
       "      <th>pi1</th>\n",
       "    </tr>\n",
       "  </thead>\n",
       "  <tbody>\n",
       "    <tr>\n",
       "      <td>0</td>\n",
       "      <td>Re</td>\n",
       "      <td>-0.533558</td>\n",
       "      <td>0.032104</td>\n",
       "    </tr>\n",
       "    <tr>\n",
       "      <td>1</td>\n",
       "      <td>R</td>\n",
       "      <td>-0.224310</td>\n",
       "      <td>0.721882</td>\n",
       "    </tr>\n",
       "  </tbody>\n",
       "</table>\n",
       "</div>"
      ],
      "text/plain": [
       "  rowname       pi0       pi1\n",
       "0      Re -0.533558  0.032104\n",
       "1       R -0.224310  0.721882"
      ]
     },
     "execution_count": 7,
     "metadata": {},
     "output_type": "execute_result"
    }
   ],
   "source": [
    "df_pi_prime = express(df_pi, df_standard)\n",
    "df_pi_prime\n"
   ]
  },
  {
   "cell_type": "markdown",
   "metadata": {},
   "source": [
    "This shows us that `pi0` is composed of both `Re` and `R`, while `pi1` is almost entirely aligned with `R`.\n",
    "\n",
    "We can non-dimensionalize target quantities by providing their physical dimensions. If we wanted to non-dimensionalize a flow rate $[Q] = \\frac{M}{L^3 T}$, we could produce the *canonical non-dimensionalizing factor* [2] via"
   ]
  },
  {
   "cell_type": "code",
   "execution_count": 8,
   "metadata": {},
   "outputs": [
    {
     "name": "stdout",
     "output_type": "stream",
     "text": [
      "  rowname  pi_Q\n",
      "0       M  -1.0\n",
      "1       L   3.0\n",
      "2       T   1.0\n"
     ]
    },
    {
     "data": {
      "text/html": [
       "<div>\n",
       "<style scoped>\n",
       "    .dataframe tbody tr th:only-of-type {\n",
       "        vertical-align: middle;\n",
       "    }\n",
       "\n",
       "    .dataframe tbody tr th {\n",
       "        vertical-align: top;\n",
       "    }\n",
       "\n",
       "    .dataframe thead th {\n",
       "        text-align: right;\n",
       "    }\n",
       "</style>\n",
       "<table border=\"1\" class=\"dataframe\">\n",
       "  <thead>\n",
       "    <tr style=\"text-align: right;\">\n",
       "      <th></th>\n",
       "      <th>rowname</th>\n",
       "      <th>pi_Q</th>\n",
       "    </tr>\n",
       "  </thead>\n",
       "  <tbody>\n",
       "    <tr>\n",
       "      <td>0</td>\n",
       "      <td>rho</td>\n",
       "      <td>-0.571429</td>\n",
       "    </tr>\n",
       "    <tr>\n",
       "      <td>1</td>\n",
       "      <td>U</td>\n",
       "      <td>-0.571429</td>\n",
       "    </tr>\n",
       "    <tr>\n",
       "      <td>2</td>\n",
       "      <td>D</td>\n",
       "      <td>0.714286</td>\n",
       "    </tr>\n",
       "    <tr>\n",
       "      <td>3</td>\n",
       "      <td>mu</td>\n",
       "      <td>-0.428571</td>\n",
       "    </tr>\n",
       "    <tr>\n",
       "      <td>4</td>\n",
       "      <td>eps</td>\n",
       "      <td>0.714286</td>\n",
       "    </tr>\n",
       "  </tbody>\n",
       "</table>\n",
       "</div>"
      ],
      "text/plain": [
       "  rowname      pi_Q\n",
       "0     rho -0.571429\n",
       "1       U -0.571429\n",
       "2       D  0.714286\n",
       "3      mu -0.428571\n",
       "4     eps  0.714286"
      ]
     },
     "execution_count": 8,
     "metadata": {},
     "output_type": "execute_result"
    }
   ],
   "source": [
    "df_flowrate = col_matrix(pi_Q = dict(M=+1, L=-3, T=-1))\n",
    "df_nondim = nondim(df_flowrate, df_dim)\n",
    "print(inner(df_dim, df_nondim))\n",
    "df_nondim\n"
   ]
  },
  {
   "cell_type": "markdown",
   "metadata": {},
   "source": [
    "Note that the canonical factor has the *opposite* physical units of what we coded above; this is because multiplying by this factor should *cancel* the physical units of our target quantity, leading to a dimensionless number.\n",
    "\n",
    "The canonical factor is also orthogonal to the pi subspace. We can verify orthogonality computing the subspace angles."
   ]
  },
  {
   "cell_type": "code",
   "execution_count": 9,
   "metadata": {},
   "outputs": [
    {
     "data": {
      "text/plain": [
       "array([1.57079633])"
      ]
     },
     "execution_count": 9,
     "metadata": {},
     "output_type": "execute_result"
    }
   ],
   "source": [
    "angles(df_nondim, df_pi)"
   ]
  },
  {
   "cell_type": "markdown",
   "metadata": {},
   "source": [
    "This is $90^{\\circ}$; orthogonal to the pi subspace.\n",
    "\n",
    "We can verify that `df_nondim` non-dimensionalizes the qoi correctly by *augmenting* the dimension matrix and non-dimensionalizing vector with $Q$, then carrying out an inner product. If $Q \\times \\exp("
   ]
  },
  {
   "cell_type": "code",
   "execution_count": 10,
   "metadata": {},
   "outputs": [
    {
     "name": "stdout",
     "output_type": "stream",
     "text": [
      "  rowname  rho  U  D  mu  eps  Q\n",
      "0       M    1  0  0   1    0  1\n",
      "1       L   -3  1  1  -1    1 -3\n",
      "2       T    0 -1  0  -1    0 -1\n",
      "  rowname      pi_Q\n",
      "0       D  0.714286\n",
      "1       Q  1.000000\n",
      "2       U -0.571429\n",
      "3     eps  0.714286\n",
      "4      mu -0.428571\n",
      "5     rho -0.571429\n"
     ]
    },
    {
     "name": "stderr",
     "output_type": "stream",
     "text": [
      "/Users/zach/opt/anaconda3/lib/python3.7/site-packages/pybuck/core.py:209: RuntimeWarning: Assuming rowname ordering for Q...\n",
      "  RuntimeWarning\n"
     ]
    },
    {
     "data": {
      "text/html": [
       "<div>\n",
       "<style scoped>\n",
       "    .dataframe tbody tr th:only-of-type {\n",
       "        vertical-align: middle;\n",
       "    }\n",
       "\n",
       "    .dataframe tbody tr th {\n",
       "        vertical-align: top;\n",
       "    }\n",
       "\n",
       "    .dataframe thead th {\n",
       "        text-align: right;\n",
       "    }\n",
       "</style>\n",
       "<table border=\"1\" class=\"dataframe\">\n",
       "  <thead>\n",
       "    <tr style=\"text-align: right;\">\n",
       "      <th></th>\n",
       "      <th>rowname</th>\n",
       "      <th>pi_Q</th>\n",
       "    </tr>\n",
       "  </thead>\n",
       "  <tbody>\n",
       "    <tr>\n",
       "      <td>0</td>\n",
       "      <td>M</td>\n",
       "      <td>0.000000e+00</td>\n",
       "    </tr>\n",
       "    <tr>\n",
       "      <td>1</td>\n",
       "      <td>L</td>\n",
       "      <td>0.000000e+00</td>\n",
       "    </tr>\n",
       "    <tr>\n",
       "      <td>2</td>\n",
       "      <td>T</td>\n",
       "      <td>4.440892e-16</td>\n",
       "    </tr>\n",
       "  </tbody>\n",
       "</table>\n",
       "</div>"
      ],
      "text/plain": [
       "  rowname          pi_Q\n",
       "0       M  0.000000e+00\n",
       "1       L  0.000000e+00\n",
       "2       T  4.440892e-16"
      ]
     },
     "execution_count": 10,
     "metadata": {},
     "output_type": "execute_result"
    }
   ],
   "source": [
    "df_dim_ext = add_col(df_dim, Q=dict(M=1, L=-3, T=-1))\n",
    "print(df_dim_ext)\n",
    "df_nondim_ext = add_row(df_nondim, Q=[1])\n",
    "print(df_nondim_ext)\n",
    "\n",
    "inner(df_dim_ext, df_nondim_ext)"
   ]
  },
  {
   "cell_type": "markdown",
   "metadata": {},
   "source": [
    "## Empirical Dimension Reduction\n",
    "\n",
    "Next we demonstrate combining *empirical dimension reduction* with dimensional analysis. This allows one to equip data-driven methods with physical interpretation.\n",
    "\n",
    "First, we generate some data for the Reynolds pipe flow problem. This follows the setup described in Reference 2."
   ]
  },
  {
   "cell_type": "code",
   "execution_count": 11,
   "metadata": {},
   "outputs": [
    {
     "data": {
      "text/html": [
       "<div>\n",
       "<style scoped>\n",
       "    .dataframe tbody tr th:only-of-type {\n",
       "        vertical-align: middle;\n",
       "    }\n",
       "\n",
       "    .dataframe tbody tr th {\n",
       "        vertical-align: top;\n",
       "    }\n",
       "\n",
       "    .dataframe thead th {\n",
       "        text-align: right;\n",
       "    }\n",
       "</style>\n",
       "<table border=\"1\" class=\"dataframe\">\n",
       "  <thead>\n",
       "    <tr style=\"text-align: right;\">\n",
       "      <th></th>\n",
       "      <th>rho</th>\n",
       "      <th>U</th>\n",
       "      <th>D</th>\n",
       "      <th>mu</th>\n",
       "      <th>eps</th>\n",
       "      <th>f</th>\n",
       "    </tr>\n",
       "  </thead>\n",
       "  <tbody>\n",
       "    <tr>\n",
       "      <td>0</td>\n",
       "      <td>1.206559</td>\n",
       "      <td>6.136008</td>\n",
       "      <td>1.311390</td>\n",
       "      <td>0.000011</td>\n",
       "      <td>0.152792</td>\n",
       "      <td>0.112634</td>\n",
       "    </tr>\n",
       "    <tr>\n",
       "      <td>1</td>\n",
       "      <td>1.333559</td>\n",
       "      <td>3.762696</td>\n",
       "      <td>1.657445</td>\n",
       "      <td>0.000014</td>\n",
       "      <td>0.078491</td>\n",
       "      <td>0.070702</td>\n",
       "    </tr>\n",
       "    <tr>\n",
       "      <td>2</td>\n",
       "      <td>1.221691</td>\n",
       "      <td>4.169188</td>\n",
       "      <td>1.372757</td>\n",
       "      <td>0.000014</td>\n",
       "      <td>0.194822</td>\n",
       "      <td>0.126807</td>\n",
       "    </tr>\n",
       "    <tr>\n",
       "      <td>3</td>\n",
       "      <td>1.092941</td>\n",
       "      <td>1.752053</td>\n",
       "      <td>1.541419</td>\n",
       "      <td>0.000014</td>\n",
       "      <td>0.091436</td>\n",
       "      <td>0.078726</td>\n",
       "    </tr>\n",
       "    <tr>\n",
       "      <td>4</td>\n",
       "      <td>1.274123</td>\n",
       "      <td>5.660807</td>\n",
       "      <td>1.319394</td>\n",
       "      <td>0.000011</td>\n",
       "      <td>0.078045</td>\n",
       "      <td>0.078545</td>\n",
       "    </tr>\n",
       "    <tr>\n",
       "      <td>...</td>\n",
       "      <td>...</td>\n",
       "      <td>...</td>\n",
       "      <td>...</td>\n",
       "      <td>...</td>\n",
       "      <td>...</td>\n",
       "      <td>...</td>\n",
       "    </tr>\n",
       "    <tr>\n",
       "      <td>495</td>\n",
       "      <td>1.075016</td>\n",
       "      <td>9.246646</td>\n",
       "      <td>1.401458</td>\n",
       "      <td>0.000013</td>\n",
       "      <td>0.083568</td>\n",
       "      <td>0.078849</td>\n",
       "    </tr>\n",
       "    <tr>\n",
       "      <td>496</td>\n",
       "      <td>1.280810</td>\n",
       "      <td>2.387921</td>\n",
       "      <td>1.335002</td>\n",
       "      <td>0.000014</td>\n",
       "      <td>0.156682</td>\n",
       "      <td>0.113150</td>\n",
       "    </tr>\n",
       "    <tr>\n",
       "      <td>497</td>\n",
       "      <td>1.263388</td>\n",
       "      <td>5.166624</td>\n",
       "      <td>1.508881</td>\n",
       "      <td>0.000013</td>\n",
       "      <td>0.175327</td>\n",
       "      <td>0.112460</td>\n",
       "    </tr>\n",
       "    <tr>\n",
       "      <td>498</td>\n",
       "      <td>1.272550</td>\n",
       "      <td>5.500882</td>\n",
       "      <td>1.534153</td>\n",
       "      <td>0.000013</td>\n",
       "      <td>0.177608</td>\n",
       "      <td>0.112218</td>\n",
       "    </tr>\n",
       "    <tr>\n",
       "      <td>499</td>\n",
       "      <td>1.149586</td>\n",
       "      <td>4.871932</td>\n",
       "      <td>1.436767</td>\n",
       "      <td>0.000012</td>\n",
       "      <td>0.058507</td>\n",
       "      <td>0.066021</td>\n",
       "    </tr>\n",
       "  </tbody>\n",
       "</table>\n",
       "<p>500 rows × 6 columns</p>\n",
       "</div>"
      ],
      "text/plain": [
       "          rho         U         D        mu       eps         f\n",
       "0    1.206559  6.136008  1.311390  0.000011  0.152792  0.112634\n",
       "1    1.333559  3.762696  1.657445  0.000014  0.078491  0.070702\n",
       "2    1.221691  4.169188  1.372757  0.000014  0.194822  0.126807\n",
       "3    1.092941  1.752053  1.541419  0.000014  0.091436  0.078726\n",
       "4    1.274123  5.660807  1.319394  0.000011  0.078045  0.078545\n",
       "..        ...       ...       ...       ...       ...       ...\n",
       "495  1.075016  9.246646  1.401458  0.000013  0.083568  0.078849\n",
       "496  1.280810  2.387921  1.335002  0.000014  0.156682  0.113150\n",
       "497  1.263388  5.166624  1.508881  0.000013  0.175327  0.112460\n",
       "498  1.272550  5.500882  1.534153  0.000013  0.177608  0.112218\n",
       "499  1.149586  4.871932  1.436767  0.000012  0.058507  0.066021\n",
       "\n",
       "[500 rows x 6 columns]"
      ]
     },
     "execution_count": 11,
     "metadata": {},
     "output_type": "execute_result"
    }
   ],
   "source": [
    "import statsmodels.formula.api as smf\n",
    "import numpy as np\n",
    "import pandas as pd\n",
    "from model_pipe import fcn\n",
    "\n",
    "## Simulate collecting data\n",
    "np.random.seed(101)\n",
    "n_data = 500\n",
    "\n",
    "Q_names = [\"rho\", \"U\", \"D\", \"mu\", \"eps\"]\n",
    "Q_lo = np.array([1.0, 1.0e+0, 1.3, 1.0e-5, 0.5e-1])\n",
    "Q_hi = np.array([1.4, 1.0e+1, 1.7, 1.5e-5, 2.0e-1])\n",
    "Q_all = np.random.random((n_data, len(Q_lo))) * (Q_hi - Q_lo) + Q_lo\n",
    "\n",
    "F_all = np.zeros(n_data)\n",
    "for i in range(n_data):\n",
    "    res = fcn(Q_all[i])\n",
    "    F_all[i] = res\n",
    "\n",
    "df_data = pd.DataFrame(\n",
    "    data=Q_all,\n",
    "    index=range(n_data),\n",
    "    columns=Q_names\n",
    ")\n",
    "df_data[\"f\"] = F_all\n",
    "df_data\n"
   ]
  },
  {
   "cell_type": "markdown",
   "metadata": {},
   "source": [
    "To perform empirical dimension reduction, we will carry out ordinary least squares to regress the output `f` on the inputs `rho, U, D, mu, eps`. However, if we **log transform** our inputs, any *linear* dimension reduction can be interpreted as a product of the inputs [2]. This will allow us to combine dimension reduction with dimensional analysis. To illustrate:"
   ]
  },
  {
   "cell_type": "code",
   "execution_count": 12,
   "metadata": {},
   "outputs": [
    {
     "data": {
      "text/html": [
       "<table class=\"simpletable\">\n",
       "<caption>OLS Regression Results</caption>\n",
       "<tr>\n",
       "  <th>Dep. Variable:</th>            <td>f</td>        <th>  R-squared:         </th> <td>   0.978</td>\n",
       "</tr>\n",
       "<tr>\n",
       "  <th>Model:</th>                   <td>OLS</td>       <th>  Adj. R-squared:    </th> <td>   0.978</td>\n",
       "</tr>\n",
       "<tr>\n",
       "  <th>Method:</th>             <td>Least Squares</td>  <th>  F-statistic:       </th> <td>   4404.</td>\n",
       "</tr>\n",
       "<tr>\n",
       "  <th>Date:</th>             <td>Wed, 08 Jan 2020</td> <th>  Prob (F-statistic):</th>  <td>  0.00</td> \n",
       "</tr>\n",
       "<tr>\n",
       "  <th>Time:</th>                 <td>11:52:22</td>     <th>  Log-Likelihood:    </th> <td>  2261.2</td>\n",
       "</tr>\n",
       "<tr>\n",
       "  <th>No. Observations:</th>      <td>   500</td>      <th>  AIC:               </th> <td>  -4510.</td>\n",
       "</tr>\n",
       "<tr>\n",
       "  <th>Df Residuals:</th>          <td>   494</td>      <th>  BIC:               </th> <td>  -4485.</td>\n",
       "</tr>\n",
       "<tr>\n",
       "  <th>Df Model:</th>              <td>     5</td>      <th>                     </th>     <td> </td>   \n",
       "</tr>\n",
       "<tr>\n",
       "  <th>Covariance Type:</th>      <td>nonrobust</td>    <th>                     </th>     <td> </td>   \n",
       "</tr>\n",
       "</table>\n",
       "<table class=\"simpletable\">\n",
       "<tr>\n",
       "      <td></td>         <th>coef</th>     <th>std err</th>      <th>t</th>      <th>P>|t|</th>  <th>[0.025</th>    <th>0.975]</th>  \n",
       "</tr>\n",
       "<tr>\n",
       "  <th>Intercept</th> <td>    0.2119</td> <td>    0.012</td> <td>   18.309</td> <td> 0.000</td> <td>    0.189</td> <td>    0.235</td>\n",
       "</tr>\n",
       "<tr>\n",
       "  <th>rho</th>       <td>    0.0007</td> <td>    0.001</td> <td>    0.525</td> <td> 0.600</td> <td>   -0.002</td> <td>    0.003</td>\n",
       "</tr>\n",
       "<tr>\n",
       "  <th>U</th>         <td>   -0.0002</td> <td>    0.000</td> <td>   -1.245</td> <td> 0.214</td> <td>   -0.001</td> <td>    0.000</td>\n",
       "</tr>\n",
       "<tr>\n",
       "  <th>D</th>         <td>   -0.0497</td> <td>    0.002</td> <td>  -32.210</td> <td> 0.000</td> <td>   -0.053</td> <td>   -0.047</td>\n",
       "</tr>\n",
       "<tr>\n",
       "  <th>mu</th>        <td>-1.375e-05</td> <td>    0.001</td> <td>   -0.014</td> <td> 0.989</td> <td>   -0.002</td> <td>    0.002</td>\n",
       "</tr>\n",
       "<tr>\n",
       "  <th>eps</th>       <td>    0.0460</td> <td>    0.000</td> <td>  143.829</td> <td> 0.000</td> <td>    0.045</td> <td>    0.047</td>\n",
       "</tr>\n",
       "</table>\n",
       "<table class=\"simpletable\">\n",
       "<tr>\n",
       "  <th>Omnibus:</th>       <td>67.391</td> <th>  Durbin-Watson:     </th> <td>   1.897</td>\n",
       "</tr>\n",
       "<tr>\n",
       "  <th>Prob(Omnibus):</th> <td> 0.000</td> <th>  Jarque-Bera (JB):  </th> <td>  91.760</td>\n",
       "</tr>\n",
       "<tr>\n",
       "  <th>Skew:</th>          <td> 1.027</td> <th>  Prob(JB):          </th> <td>1.19e-20</td>\n",
       "</tr>\n",
       "<tr>\n",
       "  <th>Kurtosis:</th>      <td> 3.427</td> <th>  Cond. No.          </th> <td>1.14e+03</td>\n",
       "</tr>\n",
       "</table><br/><br/>Warnings:<br/>[1] Standard Errors assume that the covariance matrix of the errors is correctly specified.<br/>[2] The condition number is large, 1.14e+03. This might indicate that there are<br/>strong multicollinearity or other numerical problems."
      ],
      "text/plain": [
       "<class 'statsmodels.iolib.summary.Summary'>\n",
       "\"\"\"\n",
       "                            OLS Regression Results                            \n",
       "==============================================================================\n",
       "Dep. Variable:                      f   R-squared:                       0.978\n",
       "Model:                            OLS   Adj. R-squared:                  0.978\n",
       "Method:                 Least Squares   F-statistic:                     4404.\n",
       "Date:                Wed, 08 Jan 2020   Prob (F-statistic):               0.00\n",
       "Time:                        11:52:22   Log-Likelihood:                 2261.2\n",
       "No. Observations:                 500   AIC:                            -4510.\n",
       "Df Residuals:                     494   BIC:                            -4485.\n",
       "Df Model:                           5                                         \n",
       "Covariance Type:            nonrobust                                         \n",
       "==============================================================================\n",
       "                 coef    std err          t      P>|t|      [0.025      0.975]\n",
       "------------------------------------------------------------------------------\n",
       "Intercept      0.2119      0.012     18.309      0.000       0.189       0.235\n",
       "rho            0.0007      0.001      0.525      0.600      -0.002       0.003\n",
       "U             -0.0002      0.000     -1.245      0.214      -0.001       0.000\n",
       "D             -0.0497      0.002    -32.210      0.000      -0.053      -0.047\n",
       "mu         -1.375e-05      0.001     -0.014      0.989      -0.002       0.002\n",
       "eps            0.0460      0.000    143.829      0.000       0.045       0.047\n",
       "==============================================================================\n",
       "Omnibus:                       67.391   Durbin-Watson:                   1.897\n",
       "Prob(Omnibus):                  0.000   Jarque-Bera (JB):               91.760\n",
       "Skew:                           1.027   Prob(JB):                     1.19e-20\n",
       "Kurtosis:                       3.427   Cond. No.                     1.14e+03\n",
       "==============================================================================\n",
       "\n",
       "Warnings:\n",
       "[1] Standard Errors assume that the covariance matrix of the errors is correctly specified.\n",
       "[2] The condition number is large, 1.14e+03. This might indicate that there are\n",
       "strong multicollinearity or other numerical problems.\n",
       "\"\"\""
      ]
     },
     "execution_count": 12,
     "metadata": {},
     "output_type": "execute_result"
    }
   ],
   "source": [
    "df_log = df_data.copy()\n",
    "df_log[Q_names] = np.log(df_log[Q_names])\n",
    "df_log\n",
    "\n",
    "lm = smf.ols(\n",
    "    \"f ~ rho + U + D + mu + eps\",\n",
    "    data=df_log\n",
    ").fit()\n",
    "lm.summary()"
   ]
  },
  {
   "cell_type": "markdown",
   "metadata": {},
   "source": [
    "The regression diagnostics above indicate that the fit is quite accurate with an $R^2 = 0.98$. Next we extract the regression coefficients and package them for `pybuck` with the following recipe."
   ]
  },
  {
   "cell_type": "code",
   "execution_count": 13,
   "metadata": {},
   "outputs": [],
   "source": [
    "df_dr = pd.DataFrame({\n",
    "    \"rowname\": lm.params.index[1:],\n",
    "    \"pi\": lm.params.values[1:]\n",
    "})\n",
    "df_dr = normalize(df_dr)\n"
   ]
  },
  {
   "cell_type": "markdown",
   "metadata": {},
   "source": [
    "We can check the physical units of this proposed direction."
   ]
  },
  {
   "cell_type": "code",
   "execution_count": 14,
   "metadata": {},
   "outputs": [
    {
     "data": {
      "text/html": [
       "<div>\n",
       "<style scoped>\n",
       "    .dataframe tbody tr th:only-of-type {\n",
       "        vertical-align: middle;\n",
       "    }\n",
       "\n",
       "    .dataframe tbody tr th {\n",
       "        vertical-align: top;\n",
       "    }\n",
       "\n",
       "    .dataframe thead th {\n",
       "        text-align: right;\n",
       "    }\n",
       "</style>\n",
       "<table border=\"1\" class=\"dataframe\">\n",
       "  <thead>\n",
       "    <tr style=\"text-align: right;\">\n",
       "      <th></th>\n",
       "      <th>rowname</th>\n",
       "      <th>pi</th>\n",
       "    </tr>\n",
       "  </thead>\n",
       "  <tbody>\n",
       "    <tr>\n",
       "      <td>0</td>\n",
       "      <td>M</td>\n",
       "      <td>0.009509</td>\n",
       "    </tr>\n",
       "    <tr>\n",
       "      <td>1</td>\n",
       "      <td>L</td>\n",
       "      <td>-0.087655</td>\n",
       "    </tr>\n",
       "    <tr>\n",
       "      <td>2</td>\n",
       "      <td>T</td>\n",
       "      <td>0.003849</td>\n",
       "    </tr>\n",
       "  </tbody>\n",
       "</table>\n",
       "</div>"
      ],
      "text/plain": [
       "  rowname        pi\n",
       "0       M  0.009509\n",
       "1       L -0.087655\n",
       "2       T  0.003849"
      ]
     },
     "execution_count": 14,
     "metadata": {},
     "output_type": "execute_result"
    }
   ],
   "source": [
    "inner(df_dim, df_dr)"
   ]
  },
  {
   "cell_type": "markdown",
   "metadata": {},
   "source": [
    "This is very nearly dimensionless. We can re-express this number in terms of our standard basis."
   ]
  },
  {
   "cell_type": "code",
   "execution_count": 15,
   "metadata": {},
   "outputs": [
    {
     "data": {
      "text/html": [
       "<div>\n",
       "<style scoped>\n",
       "    .dataframe tbody tr th:only-of-type {\n",
       "        vertical-align: middle;\n",
       "    }\n",
       "\n",
       "    .dataframe tbody tr th {\n",
       "        vertical-align: top;\n",
       "    }\n",
       "\n",
       "    .dataframe thead th {\n",
       "        text-align: right;\n",
       "    }\n",
       "</style>\n",
       "<table border=\"1\" class=\"dataframe\">\n",
       "  <thead>\n",
       "    <tr style=\"text-align: right;\">\n",
       "      <th></th>\n",
       "      <th>rowname</th>\n",
       "      <th>pi</th>\n",
       "    </tr>\n",
       "  </thead>\n",
       "  <tbody>\n",
       "    <tr>\n",
       "      <td>0</td>\n",
       "      <td>Re</td>\n",
       "      <td>-0.006077</td>\n",
       "    </tr>\n",
       "    <tr>\n",
       "      <td>1</td>\n",
       "      <td>R</td>\n",
       "      <td>0.703494</td>\n",
       "    </tr>\n",
       "  </tbody>\n",
       "</table>\n",
       "</div>"
      ],
      "text/plain": [
       "  rowname        pi\n",
       "0      Re -0.006077\n",
       "1       R  0.703494"
      ]
     },
     "execution_count": 15,
     "metadata": {},
     "output_type": "execute_result"
    }
   ],
   "source": [
    "express(df_dr, df_standard)"
   ]
  },
  {
   "cell_type": "markdown",
   "metadata": {},
   "source": [
    "Re-expression reveals that the empirical dimension reduction has recovered the relative roughness `R`, which fully describes the output variation in the setting considered."
   ]
  },
  {
   "cell_type": "markdown",
   "metadata": {},
   "source": [
    "## Lurking Variable Detection\n",
    "\n",
    "Finally, we slightly modify the problem above to demonstrate *lurking variable detection*.\n",
    "\n",
    "Suppose that during data collection we did not know that `eps` is a physical input. In this case, we would not know to vary it in our experiments, and it might remain fixed to an unknown value. To model this, we fix `eps=0.1` in data generation."
   ]
  },
  {
   "cell_type": "code",
   "execution_count": 16,
   "metadata": {},
   "outputs": [
    {
     "data": {
      "text/html": [
       "<div>\n",
       "<style scoped>\n",
       "    .dataframe tbody tr th:only-of-type {\n",
       "        vertical-align: middle;\n",
       "    }\n",
       "\n",
       "    .dataframe tbody tr th {\n",
       "        vertical-align: top;\n",
       "    }\n",
       "\n",
       "    .dataframe thead th {\n",
       "        text-align: right;\n",
       "    }\n",
       "</style>\n",
       "<table border=\"1\" class=\"dataframe\">\n",
       "  <thead>\n",
       "    <tr style=\"text-align: right;\">\n",
       "      <th></th>\n",
       "      <th>rho</th>\n",
       "      <th>U</th>\n",
       "      <th>D</th>\n",
       "      <th>mu</th>\n",
       "      <th>eps</th>\n",
       "      <th>f</th>\n",
       "    </tr>\n",
       "  </thead>\n",
       "  <tbody>\n",
       "    <tr>\n",
       "      <td>0</td>\n",
       "      <td>1.206559</td>\n",
       "      <td>6.136008</td>\n",
       "      <td>1.311390</td>\n",
       "      <td>0.000011</td>\n",
       "      <td>0.1</td>\n",
       "      <td>0.089230</td>\n",
       "    </tr>\n",
       "    <tr>\n",
       "      <td>1</td>\n",
       "      <td>1.333559</td>\n",
       "      <td>3.762696</td>\n",
       "      <td>1.657445</td>\n",
       "      <td>0.000014</td>\n",
       "      <td>0.1</td>\n",
       "      <td>0.079317</td>\n",
       "    </tr>\n",
       "    <tr>\n",
       "      <td>2</td>\n",
       "      <td>1.221691</td>\n",
       "      <td>4.169188</td>\n",
       "      <td>1.372757</td>\n",
       "      <td>0.000014</td>\n",
       "      <td>0.1</td>\n",
       "      <td>0.087167</td>\n",
       "    </tr>\n",
       "    <tr>\n",
       "      <td>3</td>\n",
       "      <td>1.092941</td>\n",
       "      <td>1.752053</td>\n",
       "      <td>1.541419</td>\n",
       "      <td>0.000014</td>\n",
       "      <td>0.1</td>\n",
       "      <td>0.082266</td>\n",
       "    </tr>\n",
       "    <tr>\n",
       "      <td>4</td>\n",
       "      <td>1.274123</td>\n",
       "      <td>5.660807</td>\n",
       "      <td>1.319394</td>\n",
       "      <td>0.000011</td>\n",
       "      <td>0.1</td>\n",
       "      <td>0.088949</td>\n",
       "    </tr>\n",
       "    <tr>\n",
       "      <td>...</td>\n",
       "      <td>...</td>\n",
       "      <td>...</td>\n",
       "      <td>...</td>\n",
       "      <td>...</td>\n",
       "      <td>...</td>\n",
       "      <td>...</td>\n",
       "    </tr>\n",
       "    <tr>\n",
       "      <td>495</td>\n",
       "      <td>1.075016</td>\n",
       "      <td>9.246646</td>\n",
       "      <td>1.401458</td>\n",
       "      <td>0.000013</td>\n",
       "      <td>0.1</td>\n",
       "      <td>0.086231</td>\n",
       "    </tr>\n",
       "    <tr>\n",
       "      <td>496</td>\n",
       "      <td>1.280810</td>\n",
       "      <td>2.387921</td>\n",
       "      <td>1.335002</td>\n",
       "      <td>0.000014</td>\n",
       "      <td>0.1</td>\n",
       "      <td>0.088452</td>\n",
       "    </tr>\n",
       "    <tr>\n",
       "      <td>497</td>\n",
       "      <td>1.263388</td>\n",
       "      <td>5.166624</td>\n",
       "      <td>1.508881</td>\n",
       "      <td>0.000013</td>\n",
       "      <td>0.1</td>\n",
       "      <td>0.083080</td>\n",
       "    </tr>\n",
       "    <tr>\n",
       "      <td>498</td>\n",
       "      <td>1.272550</td>\n",
       "      <td>5.500882</td>\n",
       "      <td>1.534153</td>\n",
       "      <td>0.000013</td>\n",
       "      <td>0.1</td>\n",
       "      <td>0.082392</td>\n",
       "    </tr>\n",
       "    <tr>\n",
       "      <td>499</td>\n",
       "      <td>1.149586</td>\n",
       "      <td>4.871932</td>\n",
       "      <td>1.436767</td>\n",
       "      <td>0.000012</td>\n",
       "      <td>0.1</td>\n",
       "      <td>0.085156</td>\n",
       "    </tr>\n",
       "  </tbody>\n",
       "</table>\n",
       "<p>500 rows × 6 columns</p>\n",
       "</div>"
      ],
      "text/plain": [
       "          rho         U         D        mu  eps         f\n",
       "0    1.206559  6.136008  1.311390  0.000011  0.1  0.089230\n",
       "1    1.333559  3.762696  1.657445  0.000014  0.1  0.079317\n",
       "2    1.221691  4.169188  1.372757  0.000014  0.1  0.087167\n",
       "3    1.092941  1.752053  1.541419  0.000014  0.1  0.082266\n",
       "4    1.274123  5.660807  1.319394  0.000011  0.1  0.088949\n",
       "..        ...       ...       ...       ...  ...       ...\n",
       "495  1.075016  9.246646  1.401458  0.000013  0.1  0.086231\n",
       "496  1.280810  2.387921  1.335002  0.000014  0.1  0.088452\n",
       "497  1.263388  5.166624  1.508881  0.000013  0.1  0.083080\n",
       "498  1.272550  5.500882  1.534153  0.000013  0.1  0.082392\n",
       "499  1.149586  4.871932  1.436767  0.000012  0.1  0.085156\n",
       "\n",
       "[500 rows x 6 columns]"
      ]
     },
     "execution_count": 16,
     "metadata": {},
     "output_type": "execute_result"
    }
   ],
   "source": [
    "## Generate frozen-eps data\n",
    "Fp_all = np.zeros(n_data)\n",
    "Qp_all = Q_all\n",
    "Qp_all[:, 4] = [0.1] * n_data\n",
    "\n",
    "for i in range(n_data):\n",
    "    Fp_all[i] = fcn(Qp_all[i])\n",
    "\n",
    "df_frz = pd.DataFrame(\n",
    "    data=Qp_all,\n",
    "    index=range(n_data),\n",
    "    columns=Q_names\n",
    ")\n",
    "df_frz[\"f\"] = Fp_all\n",
    "df_frz\n"
   ]
  },
  {
   "cell_type": "markdown",
   "metadata": {},
   "source": [
    "We repeat computing a linear dimension reduction on the frozen data."
   ]
  },
  {
   "cell_type": "code",
   "execution_count": 20,
   "metadata": {},
   "outputs": [
    {
     "name": "stdout",
     "output_type": "stream",
     "text": [
      "  rowname         D         U        mu       rho\n",
      "0      pi -0.995279  0.004881 -0.096896  0.002738\n"
     ]
    }
   ],
   "source": [
    "df_frz_log = df_data.copy()\n",
    "df_frz_log[Q_names] = np.log(df_frz_log[Q_names])\n",
    "df_frz_log\n",
    "\n",
    "lm_frz = smf.ols(\n",
    "    \"f ~ rho + U + D + mu\",\n",
    "    data=df_frz_log\n",
    ").fit()\n",
    "\n",
    "df_frz_dr = pd.DataFrame({\n",
    "    \"rowname\": lm_frz.params.index[1:],\n",
    "    \"pi\": lm_frz.params.values[1:]\n",
    "})\n",
    "df_frz_dr = normalize(df_frz_dr)\n",
    "print(transpose(df_frz_dr))"
   ]
  },
  {
   "cell_type": "markdown",
   "metadata": {},
   "source": [
    "Let's inspect the physical dimensions of `df_frz_dr`."
   ]
  },
  {
   "cell_type": "code",
   "execution_count": 21,
   "metadata": {},
   "outputs": [
    {
     "name": "stdout",
     "output_type": "stream",
     "text": [
      "  rowname        pi\n",
      "0       M -0.094159\n",
      "1       L -0.901714\n",
      "2       T  0.092016\n"
     ]
    }
   ],
   "source": [
    "print(inner(df_dim, df_frz_dr))"
   ]
  },
  {
   "cell_type": "markdown",
   "metadata": {},
   "source": [
    "This direction is not dimensionless! This indicates that a lurking variable is present, and it has units of `L`. This procedure has correctly identified the presence of our lurking variable `eps` which has dimensions $[\\epsilon] = L$. "
   ]
  },
  {
   "cell_type": "markdown",
   "metadata": {},
   "source": [
    "# Bibliography\n",
    "\n",
    "---\n",
    "\n",
    "[1] O. Reynolds, \"An experimental investigation of the circumstances which determine whether the motion of water shall be direct or sinuous, and of the law of resistance in parallel channels\" (1883) *Royal Society*\n",
    "\n",
    "[2] Z. del Rosario, M. Lee, and G. Iaccarino, \"Lurking Variable Detection via Dimensional Analysis\" (2019) *SIAM/ASA Journal on Uncertainty Quantification*"
   ]
  }
 ],
 "metadata": {
  "kernelspec": {
   "display_name": "Python 3",
   "language": "python",
   "name": "python3"
  },
  "language_info": {
   "codemirror_mode": {
    "name": "ipython",
    "version": 3
   },
   "file_extension": ".py",
   "mimetype": "text/x-python",
   "name": "python",
   "nbconvert_exporter": "python",
   "pygments_lexer": "ipython3",
   "version": "3.7.4"
  }
 },
 "nbformat": 4,
 "nbformat_minor": 4
}
